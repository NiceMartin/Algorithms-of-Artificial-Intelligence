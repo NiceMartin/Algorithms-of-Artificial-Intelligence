{
 "cells": [
  {
   "cell_type": "code",
   "execution_count": 2,
   "metadata": {},
   "outputs": [],
   "source": [
    "context = 'crime rate has also been shown to be correlated with inequality in society . most studies looking into the relationship have concentrated on homicides – since homicides are almost identically defined across all nations and jurisdictions . there have been over fifty studies showing tendencies for violence to be more common in societies where income differences are larger . research has been conducted comparing developed countries with undeveloped countries , as well as studying areas within countries . daly et al . 2001 found that among u.s states and canadian provinces there is a tenfold difference in homicide rates related to inequality . they estimated that about half of all variation in homicide rates can be accounted for by differences in the amount of inequality in each province or state . fajnzylber et al . ( 2002 ) found a similar relationship worldwide . among comments in academic literature on the relationship between homicides and inequality are :'"
   ]
  },
  {
   "cell_type": "code",
   "execution_count": 5,
   "metadata": {},
   "outputs": [
    {
     "name": "stdout",
     "output_type": "stream",
     "text": [
      "OrderedDict([('c', 39), ('r', 44), ('i', 76), ('m', 21), ('e', 107), ('a', 65), ('t', 64), ('h', 29), ('s', 48), ('l', 33), ('o', 59), ('b', 10), ('n', 66), ('w', 10), ('d', 38), ('q', 4), ('u', 20), ('y', 12), ('k', 1), ('g', 7), ('p', 8), ('v', 9), ('–', 1), ('f', 18), ('j', 2), ('2', 3), ('0', 4), ('1', 1), ('z', 1)])\n",
      "{'e': 1, 'i': 2, 'n': 3, 'a': 4, 't': 5, 'o': 6, 's': 7, 'r': 8, 'c': 9, 'd': 10, 'l': 11, 'h': 12, 'm': 13, 'u': 14, 'f': 15, 'y': 16, 'b': 17, 'w': 18, 'v': 19, 'p': 20, 'g': 21, 'q': 22, '0': 23, '2': 24, 'j': 25, 'k': 26, '–': 27, '1': 28, 'z': 29}\n",
      "{'c': 39, 'r': 44, 'i': 76, 'm': 21, 'e': 107, 'a': 65, 't': 64, 'h': 29, 's': 48, 'l': 33, 'o': 59, 'b': 10, 'n': 66, 'w': 10, 'd': 38, 'q': 4, 'u': 20, 'y': 12, 'k': 1, 'g': 7, 'p': 8, 'v': 9, '–': 1, 'f': 18, 'j': 2, '2': 3, '0': 4, '1': 1, 'z': 1}\n",
      "{9: 39, 8: 44, 2: 76, 13: 21, 1: 107, 4: 65, 5: 64, 12: 29, 7: 48, 11: 33, 6: 59, 17: 10, 3: 66, 18: 10, 10: 38, 22: 4, 14: 20, 16: 12, 26: 1, 21: 7, 20: 8, 19: 9, 27: 1, 15: 18, 25: 2, 24: 3, 23: 4, 28: 1, 29: 1}\n"
     ]
    }
   ],
   "source": [
    "from keras.preprocessing.text import Tokenizer\n",
    "import keras.preprocessing.text as T\n",
    "# 分词\n",
    "t = Tokenizer()  # 分词器\n",
    "txt_list = context\n",
    "t.fit_on_texts(txt_list)\n",
    "vocab_size = len(t.word_index) + 1\n",
    "\n",
    "print(t.word_counts)  # [('some', 2), ('thing', 2), ('to', 2), ('eat', 1), ('drink', 1)]\n",
    "print(t.word_index)  # {'some': 1, 'thing': 2,'to': 3 ','eat': 4, drink': 5}\n",
    "print(t.word_docs)  # {'some': 2, 'thing': 2, 'to': 2, 'drink': 1,  'eat': 1}\n",
    "print(t.index_docs)  # {1: 2, 2: 2, 3: 2, 4: 1, 5: 1}\n",
    "\n",
    "txt_train_cnt = t.texts_to_sequences(context)\n"
   ]
  },
  {
   "cell_type": "code",
   "execution_count": null,
   "metadata": {
    "collapsed": true
   },
   "outputs": [],
   "source": []
  }
 ],
 "metadata": {
  "kernelspec": {
   "display_name": "Python 3",
   "language": "python",
   "name": "python3"
  },
  "language_info": {
   "codemirror_mode": {
    "name": "ipython",
    "version": 3
   },
   "file_extension": ".py",
   "mimetype": "text/x-python",
   "name": "python",
   "nbconvert_exporter": "python",
   "pygments_lexer": "ipython3",
   "version": "3.6.3"
  }
 },
 "nbformat": 4,
 "nbformat_minor": 2
}
