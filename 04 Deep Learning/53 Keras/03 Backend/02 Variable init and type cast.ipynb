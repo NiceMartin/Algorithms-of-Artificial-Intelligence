{
 "cells": [
  {
   "cell_type": "code",
   "execution_count": null,
   "metadata": {
    "collapsed": true
   },
   "outputs": [],
   "source": [
    "bias_add\n",
    "bias_add(x, bias, data_format=None)\n",
    "为张量增加一个偏置项\n",
    "\n",
    "random_normal\n",
    "random_normal(shape, mean=0.0, stddev=1.0, dtype=None, seed=None)\n",
    "返回具有正态分布值的张量，mean和stddev为均值和标准差\n",
    "\n",
    "random_uniform\n",
    "random_uniform(shape, minval=0.0, maxval=1.0, dtype=None, seed=None)\n",
    "返回具有均匀分布值的张量，minval和maxval是均匀分布的下上界\n",
    "\n",
    "random_binomial\n",
    "random_binomial(shape, p=0.0, dtype=None, seed=None)\n",
    "返回具有二项分布值的张量，p是二项分布参数\n",
    "\n",
    "truncated_normall\n",
    "truncated_normal(shape, mean=0.0, stddev=1.0, dtype=None, seed=None)\n",
    "返回具有截尾正态分布值的张量，在距离均值两个标准差之外的数据将会被截断并重新生成"
   ]
  },
  {
   "cell_type": "code",
   "execution_count": 1,
   "metadata": {
    "collapsed": true
   },
   "outputs": [],
   "source": [
    "import keras.backend as K"
   ]
  },
  {
   "cell_type": "code",
   "execution_count": 2,
   "metadata": {},
   "outputs": [
    {
     "name": "stdout",
     "output_type": "stream",
     "text": [
      "tensorflow\n"
     ]
    }
   ],
   "source": [
    "print(K.backend())"
   ]
  },
  {
   "cell_type": "code",
   "execution_count": 6,
   "metadata": {},
   "outputs": [
    {
     "name": "stdout",
     "output_type": "stream",
     "text": [
      "1e-07\n",
      "1e-05\n"
     ]
    }
   ],
   "source": [
    "# 以数值形式返回一个（一般来说很小的）数，用以防止除0错误\n",
    "print(K.epsilon())\n",
    "# set_epsilon\n",
    "K.set_epsilon(1e-05)\n",
    "print(K.epsilon())"
   ]
  },
  {
   "cell_type": "code",
   "execution_count": 12,
   "metadata": {},
   "outputs": [
    {
     "name": "stdout",
     "output_type": "stream",
     "text": [
      "float32\n",
      "None\n",
      "float32\n"
     ]
    }
   ],
   "source": [
    "# floatx 返回默认的浮点数数据类型\n",
    "print(K.floatx())\n",
    "# set floatx 设置默认的浮点类型, floatx: 字符串，'float16', 'float32', 或 'float64'\n",
    "print(K.set_floatx('float32'))\n",
    "print(K.floatx())"
   ]
  },
  {
   "cell_type": "code",
   "execution_count": null,
   "metadata": {
    "collapsed": true
   },
   "outputs": [],
   "source": [
    "# cast_to_floatx 将numpy array转换为默认的Keras floatx类型\n",
    "# x为numpy array，返回值也为numpy array但其数据类型变为floatx"
   ]
  },
  {
   "cell_type": "code",
   "execution_count": null,
   "metadata": {
    "collapsed": true
   },
   "outputs": [],
   "source": [
    "# image_data_format\n",
    "# set_image_data_format"
   ]
  },
  {
   "cell_type": "code",
   "execution_count": null,
   "metadata": {
    "collapsed": true
   },
   "outputs": [],
   "source": [
    "# get_uid 获取默认计算图的 uid\n",
    "# reset_uids 重置图的标识符"
   ]
  },
  {
   "cell_type": "code",
   "execution_count": null,
   "metadata": {
    "collapsed": true
   },
   "outputs": [],
   "source": [
    "# clear_session\n",
    "# 销毁当前的 TF 图并创建一个新图\n",
    "# 有用于避免旧模型/网络层混乱"
   ]
  },
  {
   "cell_type": "code",
   "execution_count": null,
   "metadata": {
    "collapsed": true
   },
   "outputs": [],
   "source": [
    "# manual_variable_initialization\n",
    "# 设置变量手动初始化的标志"
   ]
  },
  {
   "cell_type": "code",
   "execution_count": null,
   "metadata": {
    "collapsed": true
   },
   "outputs": [],
   "source": [
    "# learning_phase\n",
    "# 返回学习阶段的标志\n",
    "# 学习阶段标志是一个布尔张量（0 = test，1 = train）\n",
    "# 它作为输入传递给任何的 Keras 函数，以在训练和测试 时执行不同的行为操作\n",
    "# set_learning_phase\n",
    "# 将学习阶段设置为固定值"
   ]
  },
  {
   "cell_type": "code",
   "execution_count": 13,
   "metadata": {},
   "outputs": [
    {
     "name": "stdout",
     "output_type": "stream",
     "text": [
      "False\n",
      "True\n"
     ]
    }
   ],
   "source": [
    "# is_sparse\n",
    "# 判断张量是否是稀疏张量\n",
    "# to_dense\n",
    "# 将稀疏张量转换为稠密张量并返回\n",
    "from keras import backend as K\n",
    "a = K.placeholder((2, 2), sparse=False)\n",
    "print(K.is_sparse(a))\n",
    "\n",
    "b = K.placeholder((2, 2), sparse=True)\n",
    "print(K.is_sparse(b))\n"
   ]
  },
  {
   "cell_type": "code",
   "execution_count": 16,
   "metadata": {},
   "outputs": [
    {
     "name": "stdout",
     "output_type": "stream",
     "text": [
      "float64\n",
      "<tf.Variable 'example_var:0' shape=(2, 2) dtype=float64_ref>\n",
      "[[1. 2.]\n",
      " [3. 4.]]\n"
     ]
    }
   ],
   "source": [
    "# variable\n",
    "# keras.backend.variable(value, dtype=None, name=None, constraint=None)\n",
    "# 实例化一个变量并返回它。\n",
    "# 参数\n",
    "# value: Numpy 数组，张量的初始值。\n",
    "# dtype: 张量类型。\n",
    "# name: 张量的可选名称字符串。\n",
    "# constraint: 在优化器更新后应用于变量的可选投影函数。\n",
    "# 返回\n",
    "# 变量实例（包含 Keras 元数据）\n",
    "from keras import backend as K\n",
    "import numpy as np\n",
    "val = np.array([[1, 2], [3, 4]])\n",
    "kvar = K.variable(value=val, dtype='float64', name='example_var')\n",
    "print(K.dtype(kvar))\n",
    "print(kvar)\n",
    "print(K.eval(kvar))"
   ]
  },
  {
   "cell_type": "code",
   "execution_count": null,
   "metadata": {
    "collapsed": true
   },
   "outputs": [],
   "source": [
    "# constant"
   ]
  },
  {
   "cell_type": "code",
   "execution_count": null,
   "metadata": {
    "collapsed": true
   },
   "outputs": [],
   "source": [
    "# is keras tensor"
   ]
  },
  {
   "cell_type": "code",
   "execution_count": null,
   "metadata": {
    "collapsed": true
   },
   "outputs": [],
   "source": [
    "# placeholder\n",
    "# 实例化一个占位符，返回之"
   ]
  },
  {
   "cell_type": "code",
   "execution_count": null,
   "metadata": {
    "collapsed": true
   },
   "outputs": [],
   "source": [
    "# shape()\n",
    "# 返回一个张量的符号shape，符号shape的意思是返回值本身也是一个tensor"
   ]
  },
  {
   "cell_type": "code",
   "execution_count": null,
   "metadata": {
    "collapsed": true
   },
   "outputs": [],
   "source": [
    "# int_shape()\n",
    "# 返回张量或变量的尺寸，作为 int 或 None 项的元组"
   ]
  },
  {
   "cell_type": "code",
   "execution_count": null,
   "metadata": {
    "collapsed": true
   },
   "outputs": [],
   "source": [
    "# ndim\n",
    "# 返回张量的阶数，为整数\n",
    "# 以整数形式返回张量中的轴数"
   ]
  },
  {
   "cell_type": "code",
   "execution_count": null,
   "metadata": {
    "collapsed": true
   },
   "outputs": [],
   "source": [
    "# dtype\n",
    "# 返回张量的数据类型，为字符串"
   ]
  },
  {
   "cell_type": "code",
   "execution_count": null,
   "metadata": {
    "collapsed": true
   },
   "outputs": [],
   "source": [
    "# eval\n",
    "# 求得张量的值，返回一个Numpy array"
   ]
  },
  {
   "cell_type": "code",
   "execution_count": null,
   "metadata": {
    "collapsed": true
   },
   "outputs": [],
   "source": [
    "# 产生变量\n",
    "# zeros\n",
    "# ones\n",
    "# eye\n",
    "# zeros_like\n",
    "# ones_like\n",
    "# random_uniform_variable\n",
    "# random_normal_variable"
   ]
  },
  {
   "cell_type": "code",
   "execution_count": null,
   "metadata": {
    "collapsed": true
   },
   "outputs": [],
   "source": [
    "# identity\n",
    "# 返回与输入张量相同内容的张量"
   ]
  },
  {
   "cell_type": "code",
   "execution_count": null,
   "metadata": {
    "collapsed": true
   },
   "outputs": [],
   "source": [
    "# count_params\n",
    "# 返回 Keras 变量或张量中的静态元素数"
   ]
  },
  {
   "cell_type": "code",
   "execution_count": null,
   "metadata": {
    "collapsed": true
   },
   "outputs": [],
   "source": [
    "# cast\n",
    "# 改变张量的数据类型，dtype只能是float16, float32或float64之一"
   ]
  },
  {
   "cell_type": "code",
   "execution_count": null,
   "metadata": {
    "collapsed": true
   },
   "outputs": [],
   "source": [
    "is_keras_tensor"
   ]
  }
 ],
 "metadata": {
  "kernelspec": {
   "display_name": "Python 3",
   "language": "python",
   "name": "python3"
  },
  "language_info": {
   "codemirror_mode": {
    "name": "ipython",
    "version": 3
   },
   "file_extension": ".py",
   "mimetype": "text/x-python",
   "name": "python",
   "nbconvert_exporter": "python",
   "pygments_lexer": "ipython3",
   "version": "3.6.3"
  }
 },
 "nbformat": 4,
 "nbformat_minor": 2
}
