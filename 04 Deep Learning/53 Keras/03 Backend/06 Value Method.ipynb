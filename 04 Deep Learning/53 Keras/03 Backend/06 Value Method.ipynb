{
 "cells": [
  {
   "cell_type": "code",
   "execution_count": null,
   "metadata": {
    "collapsed": true
   },
   "outputs": [],
   "source": [
    "get_value\n",
    "get_value(x)\n",
    "以Numpy array的形式返回张量的值"
   ]
  },
  {
   "cell_type": "code",
   "execution_count": null,
   "metadata": {
    "collapsed": true
   },
   "outputs": [],
   "source": [
    "batch_get_value\n",
    "batch_get_value(x)\n",
    "以Numpy array list的形式返回多个张量的值"
   ]
  },
  {
   "cell_type": "code",
   "execution_count": null,
   "metadata": {
    "collapsed": true
   },
   "outputs": [],
   "source": [
    "set_value\n",
    "set_value(x, value)\n",
    "从numpy array将值载入张量中"
   ]
  },
  {
   "cell_type": "code",
   "execution_count": null,
   "metadata": {
    "collapsed": true
   },
   "outputs": [],
   "source": [
    "batch_set_value\n",
    "batch_set_value(tuples)\n",
    "将多个值载入多个张量变量中\n",
    "\n",
    "参数：\n",
    "\n",
    "tuples: 列表，其中的元素形如(tensor, value)。value是要载入的Numpy array数据\n",
    "print_tensor\n",
    "print_tensor(x, message='')\n",
    "在求值时打印张量的信息，并返回原张量"
   ]
  },
  {
   "cell_type": "code",
   "execution_count": null,
   "metadata": {
    "collapsed": true
   },
   "outputs": [],
   "source": [
    "print_tensor\n",
    "keras.backend.print_tensor(x, message='')\n",
    "在评估时打印 message 和张量的值。\n",
    "\n",
    "请注意，print_tensor 返回一个与 x 相同的新张量，应该在后面的代码中使用它。\n",
    "否则在评估过程中不会考虑打印操作。\n",
    "\n",
    "例子\n",
    "\n",
    ">>> x = K.print_tensor(x, message=\"x is: \")\n",
    "参数\n",
    "\n",
    "x: 需要打印的张量。\n",
    "message: 需要与张量一起打印的消息。\n",
    "返回\n",
    "\n",
    "同一个不变的张量 x。"
   ]
  }
 ],
 "metadata": {
  "kernelspec": {
   "display_name": "Python 3",
   "language": "python",
   "name": "python3"
  },
  "language_info": {
   "codemirror_mode": {
    "name": "ipython",
    "version": 3
   },
   "file_extension": ".py",
   "mimetype": "text/x-python",
   "name": "python",
   "nbconvert_exporter": "python",
   "pygments_lexer": "ipython3",
   "version": "3.6.3"
  }
 },
 "nbformat": 4,
 "nbformat_minor": 2
}
