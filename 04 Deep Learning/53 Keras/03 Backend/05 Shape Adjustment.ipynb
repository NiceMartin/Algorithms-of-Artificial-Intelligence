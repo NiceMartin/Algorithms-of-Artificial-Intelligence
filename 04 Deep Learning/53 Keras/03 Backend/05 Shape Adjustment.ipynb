{
 "cells": [
  {
   "cell_type": "code",
   "execution_count": null,
   "metadata": {
    "collapsed": true
   },
   "outputs": [],
   "source": [
    "transpose"
   ]
  },
  {
   "cell_type": "code",
   "execution_count": null,
   "metadata": {
    "collapsed": true
   },
   "outputs": [],
   "source": [
    "concatenate\n",
    "concatenate(tensors, axis=-1)\n",
    "在给定轴上将一个列表中的张量串联为一个张量 specified axis\n"
   ]
  },
  {
   "cell_type": "code",
   "execution_count": null,
   "metadata": {
    "collapsed": true
   },
   "outputs": [],
   "source": [
    "reshape\n",
    "reshape(x, shape)\n",
    "将张量的shape变换为指定shape"
   ]
  },
  {
   "cell_type": "code",
   "execution_count": null,
   "metadata": {
    "collapsed": true
   },
   "outputs": [],
   "source": [
    "permute_dimensions\n",
    "permute_dimensions(x, pattern)\n",
    "按照给定的模式重排一个张量的轴\n",
    "\n",
    "参数：\n",
    "\n",
    "pattern：代表维度下标的tuple如(0, 2, 1)\n",
    "resize_images\n",
    "resize_images(X, height_factor, width_factor, dim_ordering)\n",
    "依据给定的缩放因子，改变一个batch图片的shape，参数中的两个因子都为正整数，图片的排列顺序与维度的模式相关，如‘th’和‘tf’\n"
   ]
  },
  {
   "cell_type": "code",
   "execution_count": null,
   "metadata": {
    "collapsed": true
   },
   "outputs": [],
   "source": [
    "resize_volumes\n",
    "resize_volumes(X, depth_factor, height_factor, width_factor, dim_ordering)\n",
    "依据给定的缩放因子，改变一个5D张量数据的shape，参数中的两个因子都为正整数，图片的排列顺序与维度的模式相关，如‘th’和‘tf’。5D数据的形式是batch, channels, depth, height, width或batch, depth, height, width, channels"
   ]
  },
  {
   "cell_type": "code",
   "execution_count": null,
   "metadata": {
    "collapsed": true
   },
   "outputs": [],
   "source": [
    "repeat_elements\n",
    "repeat_elements(x, rep, axis)\n",
    "在给定轴上重复张量元素rep次，与np.repeat类似。例如，若xshape(s1, s2, s3)并且给定轴为axis=1`，输出张量的shape为`(s1, s2 * rep, s3)"
   ]
  },
  {
   "cell_type": "code",
   "execution_count": null,
   "metadata": {
    "collapsed": true
   },
   "outputs": [],
   "source": [
    "repeat\n",
    "repeat(x, n)\n",
    "重复2D张量，例如若xshape是(samples, dim)且n为2，则输出张量的shape是(samples, 2, dim)"
   ]
  },
  {
   "cell_type": "code",
   "execution_count": null,
   "metadata": {
    "collapsed": true
   },
   "outputs": [],
   "source": [
    "arange\n",
    "arange(start, stop=None, step=1, dtype='int32')\n",
    "生成1D的整数序列张量，该函数的参数与Theano的arange函数含义相同，如果只有一个参数被提供了，那么它实际上就是stop参数的值\n",
    "\n",
    "为了与tensorflow的默认保持匹配，函数返回张量的默认数据类型是int32"
   ]
  },
  {
   "cell_type": "code",
   "execution_count": null,
   "metadata": {
    "collapsed": true
   },
   "outputs": [],
   "source": [
    "tile\n",
    "tile(x, n)\n",
    "将x在各个维度上重复n次，x为张量，n为与x维度数目相同的列表"
   ]
  },
  {
   "cell_type": "code",
   "execution_count": null,
   "metadata": {
    "collapsed": true
   },
   "outputs": [],
   "source": [
    "batch_flatten\n",
    "batch_flatten(x)\n",
    "将一个n阶张量转变为2阶张量，其第一维度保留不变"
   ]
  },
  {
   "cell_type": "code",
   "execution_count": null,
   "metadata": {
    "collapsed": true
   },
   "outputs": [],
   "source": [
    "expand_dims\n",
    "expand_dims(x, dim=-1)\n",
    "在下标为dim的轴上增加一维"
   ]
  },
  {
   "cell_type": "code",
   "execution_count": null,
   "metadata": {
    "collapsed": true
   },
   "outputs": [],
   "source": [
    "squeeze\n",
    "squeeze(x, axis)\n",
    "将下标为axis的一维从张量中移除"
   ]
  },
  {
   "cell_type": "code",
   "execution_count": null,
   "metadata": {
    "collapsed": true
   },
   "outputs": [],
   "source": [
    "temporal_padding\n",
    "temporal_padding(x, padding=1)\n",
    "向3D张量中间的那个维度的左右两端填充padding个0值"
   ]
  },
  {
   "cell_type": "code",
   "execution_count": null,
   "metadata": {
    "collapsed": true
   },
   "outputs": [],
   "source": [
    "asymmetric_temporal_padding\n",
    "asymmetric_temporal_padding(x, left_pad=1, right_pad=1)\n",
    "向3D张量中间的那个维度的一端填充padding个0值"
   ]
  },
  {
   "cell_type": "code",
   "execution_count": null,
   "metadata": {
    "collapsed": true
   },
   "outputs": [],
   "source": [
    "spatial_2d_padding\n",
    "spatial_2d_padding(x, padding=(1, 1), dim_ordering='th')\n",
    "向4D张量第二和第三维度的左右两端填充padding[0]和padding[1]个0值"
   ]
  },
  {
   "cell_type": "code",
   "execution_count": null,
   "metadata": {
    "collapsed": true
   },
   "outputs": [],
   "source": [
    "spatial_3d_padding\n",
    "spatial_3d_padding(x, padding=(1, 1, 1), dim_ordering='th')\n",
    "向5D张量深度、高度和宽度三个维度上填充padding[0]，padding[1]和padding[2]个0值"
   ]
  },
  {
   "cell_type": "code",
   "execution_count": null,
   "metadata": {
    "collapsed": true
   },
   "outputs": [],
   "source": [
    "stack\n",
    "stack(x, axis=0)\n",
    "将一个列表中维度数目为R的张量堆积起来形成维度为R+1的新张量"
   ]
  },
  {
   "cell_type": "code",
   "execution_count": null,
   "metadata": {
    "collapsed": true
   },
   "outputs": [],
   "source": [
    "one-hot\n",
    "one_hot(indices, nb_classes)\n",
    "输入为n维的整数张量，形如(batch_size, dim1, dim2, ... dim(n-1))，输出为(n+1)维的one-hot编码，形如(batch_size, dim1, dim2, ... dim(n-1), nb_classes)"
   ]
  },
  {
   "cell_type": "code",
   "execution_count": null,
   "metadata": {
    "collapsed": true
   },
   "outputs": [],
   "source": [
    "reverse\n",
    "reverse(x, axes)\n",
    "将一个张量在给定轴上反转"
   ]
  }
 ],
 "metadata": {
  "kernelspec": {
   "display_name": "Python 3",
   "language": "python",
   "name": "python3"
  },
  "language_info": {
   "codemirror_mode": {
    "name": "ipython",
    "version": 3
   },
   "file_extension": ".py",
   "mimetype": "text/x-python",
   "name": "python",
   "nbconvert_exporter": "python",
   "pygments_lexer": "ipython3",
   "version": "3.6.3"
  }
 },
 "nbformat": 4,
 "nbformat_minor": 2
}
