{
 "cells": [
  {
   "cell_type": "code",
   "execution_count": 3,
   "metadata": {
    "collapsed": true
   },
   "outputs": [],
   "source": [
    "from keras import backend as K\n",
    "\n",
    "inputs = K.placeholder(shape=(2, 4, 5))\n",
    "# 同样可以：\n",
    "inputs = K.placeholder(shape=(None, 4, 5))\n",
    "# 同样可以：\n",
    "inputs = K.placeholder(ndim=3)"
   ]
  },
  {
   "cell_type": "code",
   "execution_count": 4,
   "metadata": {
    "collapsed": true
   },
   "outputs": [],
   "source": [
    "import numpy as np\n",
    "val = np.random.random((3, 4, 5))\n",
    "var = K.variable(value=val)\n",
    "\n",
    "# 全 0 变量：\n",
    "var = K.zeros(shape=(3, 4, 5))\n",
    "# 全 1 变量：\n",
    "var = K.ones(shape=(3, 4, 5))"
   ]
  },
  {
   "cell_type": "code",
   "execution_count": 5,
   "metadata": {
    "collapsed": true
   },
   "outputs": [],
   "source": [
    "# 使用随机数初始化张量\n",
    "b = K.random_uniform_variable(shape=(3, 4), low=0, high=1) # 均匀分布\n",
    "c = K.random_normal_variable(shape=(3, 4), mean=0, scale=1) # 高斯分布\n",
    "d = K.random_normal_variable(shape=(3, 4), mean=0, scale=1)"
   ]
  },
  {
   "cell_type": "code",
   "execution_count": null,
   "metadata": {
    "collapsed": true
   },
   "outputs": [],
   "source": []
  }
 ],
 "metadata": {
  "kernelspec": {
   "display_name": "Python 3",
   "language": "python",
   "name": "python3"
  },
  "language_info": {
   "codemirror_mode": {
    "name": "ipython",
    "version": 3
   },
   "file_extension": ".py",
   "mimetype": "text/x-python",
   "name": "python",
   "nbconvert_exporter": "python",
   "pygments_lexer": "ipython3",
   "version": "3.6.3"
  }
 },
 "nbformat": 4,
 "nbformat_minor": 2
}
