{
 "cells": [
  {
   "cell_type": "code",
   "execution_count": null,
   "metadata": {
    "collapsed": true
   },
   "outputs": [],
   "source": [
    "gradients\n",
    "keras.backend.gradients(loss, variables)\n",
    "返回 variables 在 loss 上的梯度。\n",
    "\n",
    "参数\n",
    "\n",
    "loss: 需要最小化的标量张量。\n",
    "variables: 变量列表。\n",
    "返回\n",
    "\n",
    "一个梯度张量。"
   ]
  },
  {
   "cell_type": "code",
   "execution_count": null,
   "metadata": {
    "collapsed": true
   },
   "outputs": [],
   "source": [
    "stop_gradient\n",
    "keras.backend.stop_gradient(variables)\n",
    "返回 variables，但是对于其他变量，其梯度为零。\n",
    "\n",
    "参数\n",
    "\n",
    "variables: 需要考虑的张量或张量列表，任何的其他变量保持不变。\n",
    "返回\n",
    "\n",
    "单个张量或张量列表（取决于传递的参数）， 与任何其他变量具有恒定的梯度。"
   ]
  }
 ],
 "metadata": {
  "kernelspec": {
   "display_name": "Python 3",
   "language": "python",
   "name": "python3"
  },
  "language_info": {
   "codemirror_mode": {
    "name": "ipython",
    "version": 3
   },
   "file_extension": ".py",
   "mimetype": "text/x-python",
   "name": "python",
   "nbconvert_exporter": "python",
   "pygments_lexer": "ipython3",
   "version": "3.6.3"
  }
 },
 "nbformat": 4,
 "nbformat_minor": 2
}
