{
 "cells": [
  {
   "cell_type": "code",
   "execution_count": null,
   "metadata": {
    "collapsed": true
   },
   "outputs": [],
   "source": [
    "function\n",
    "keras.backend.function(inputs, outputs, updates=None)\n",
    "实例化 Keras 函数。\n",
    "\n",
    "参数\n",
    "\n",
    "inputs: 占位符张量列表。\n",
    "outputs: 输出张量列表。\n",
    "updates: 更新操作列表。\n",
    "**kwargs: 需要传递给 tf.Session.run 的参数。\n",
    "返回\n",
    "\n",
    "输出值为 Numpy 数组。\n",
    "\n",
    "异常\n",
    "\n",
    "ValueError: 如果无效的 kwargs 被传入。"
   ]
  }
 ],
 "metadata": {
  "kernelspec": {
   "display_name": "Python 3",
   "language": "python",
   "name": "python3"
  },
  "language_info": {
   "codemirror_mode": {
    "name": "ipython",
    "version": 3
   },
   "file_extension": ".py",
   "mimetype": "text/x-python",
   "name": "python",
   "nbconvert_exporter": "python",
   "pygments_lexer": "ipython3",
   "version": "3.6.3"
  }
 },
 "nbformat": 4,
 "nbformat_minor": 2
}
