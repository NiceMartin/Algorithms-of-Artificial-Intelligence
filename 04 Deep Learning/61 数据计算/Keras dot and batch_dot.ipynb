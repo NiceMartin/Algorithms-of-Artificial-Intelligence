{
 "cells": [
  {
   "cell_type": "code",
   "execution_count": 2,
   "metadata": {},
   "outputs": [
    {
     "name": "stdout",
     "output_type": "stream",
     "text": [
      "[[0. 0. 0. 0.]\n",
      " [0. 0. 0. 0.]\n",
      " [0. 0. 0. 0.]]\n"
     ]
    }
   ],
   "source": [
    "b = K.random_uniform_variable(shape=(3, 4), low=0, high=1) # 均匀分布\n",
    "c = K.random_normal_variable(shape=(3, 4), mean=0, scale=1) # 高斯分布\n",
    "d = K.random_normal_variable(shape=(3, 4), mean=0, scale=1)\n",
    "print(K.eval(b))"
   ]
  },
  {
   "cell_type": "code",
   "execution_count": 1,
   "metadata": {},
   "outputs": [
    {
     "name": "stderr",
     "output_type": "stream",
     "text": [
      "/opt/anaconda3/lib/python3.6/site-packages/h5py/__init__.py:34: FutureWarning: Conversion of the second argument of issubdtype from `float` to `np.floating` is deprecated. In future, it will be treated as `np.float64 == np.dtype(float).type`.\n",
      "  from ._conv import register_converters as _register_converters\n",
      "Using TensorFlow backend.\n",
      "/opt/anaconda3/lib/python3.6/importlib/_bootstrap.py:219: RuntimeWarning: compiletime version 3.5 of module 'tensorflow.python.framework.fast_tensor_util' does not match runtime version 3.6\n",
      "  return f(*args, **kwds)\n"
     ]
    },
    {
     "name": "stdout",
     "output_type": "stream",
     "text": [
      "[[0. 0.]\n",
      " [0. 0.]]\n",
      "[[0. 0.]\n",
      " [0. 0.]]\n"
     ]
    }
   ],
   "source": [
    "import keras.backend as K\n",
    "x = K.random_uniform_variable(shape=(2, 2), low=0, high=100)\n",
    "y = K.random_uniform_variable(shape=(2, 2), low=0, high=100)\n",
    "xy = K.dot(x, y)\n",
    "K.int_shape(xy)\n",
    "print(K.eval(x))\n",
    "print(K.eval(y))\n",
    "# print(K.eval(xy))"
   ]
  },
  {
   "cell_type": "code",
   "execution_count": 3,
   "metadata": {},
   "outputs": [
    {
     "data": {
      "text/plain": [
       "\"Multiplies 2 tensors (and/or variables) and returns a *tensor*.\\n\\nWhen attempting to multiply a nD tensor\\nwith a nD tensor, it reproduces the Theano behavior.\\n(e.g. `(2, 3) * (4, 3, 5) -> (2, 4, 5)`)\\n\\n# Arguments\\n    x: Tensor or variable.\\n    y: Tensor or variable.\\n\\n# Returns\\n    A tensor, dot product of `x` and `y`.\\n\\n# Examples\\n```python\\n    # dot product between tensors\\n    >>> x = K.placeholder(shape=(2, 3))\\n    >>> y = K.placeholder(shape=(3, 4))\\n    >>> xy = K.dot(x, y)\\n    >>> xy\\n    <tf.Tensor 'MatMul_9:0' shape=(2, 4) dtype=float32>\\n```\\n\\n```python\\n    # dot product between tensors\\n    >>> x = K.placeholder(shape=(32, 28, 3))\\n    >>> y = K.placeholder(shape=(3, 4))\\n    >>> xy = K.dot(x, y)\\n    >>> xy\\n    <tf.Tensor 'MatMul_9:0' shape=(32, 28, 4) dtype=float32>\\n```\\n\\n```python\\n    # Theano-like behavior example\\n    >>> x = K.random_uniform_variable(shape=(2, 3), low=0, high=1)\\n    >>> y = K.ones((4, 3, 5))\\n    >>> xy = K.dot(x, y)\\n    >>> K.int_shape(xy)\\n    (2, 4, 5)\\n```\\n\""
      ]
     },
     "execution_count": 3,
     "metadata": {},
     "output_type": "execute_result"
    }
   ],
   "source": [
    "\"\"\"Multiplies 2 tensors (and/or variables) and returns a *tensor*.\n",
    "\n",
    "When attempting to multiply a nD tensor\n",
    "with a nD tensor, it reproduces the Theano behavior.\n",
    "(e.g. `(2, 3) * (4, 3, 5) -> (2, 4, 5)`)\n",
    "\n",
    "# Arguments\n",
    "    x: Tensor or variable.\n",
    "    y: Tensor or variable.\n",
    "\n",
    "# Returns\n",
    "    A tensor, dot product of `x` and `y`.\n",
    "\n",
    "# Examples\n",
    "```python\n",
    "    # dot product between tensors\n",
    "    >>> x = K.placeholder(shape=(2, 3))\n",
    "    >>> y = K.placeholder(shape=(3, 4))\n",
    "    >>> xy = K.dot(x, y)\n",
    "    >>> xy\n",
    "    <tf.Tensor 'MatMul_9:0' shape=(2, 4) dtype=float32>\n",
    "```\n",
    "\n",
    "```python\n",
    "    # dot product between tensors\n",
    "    >>> x = K.placeholder(shape=(32, 28, 3))\n",
    "    >>> y = K.placeholder(shape=(3, 4))\n",
    "    >>> xy = K.dot(x, y)\n",
    "    >>> xy\n",
    "    <tf.Tensor 'MatMul_9:0' shape=(32, 28, 4) dtype=float32>\n",
    "```\n",
    "\n",
    "```python\n",
    "    # Theano-like behavior example\n",
    "    >>> x = K.random_uniform_variable(shape=(2, 3), low=0, high=1)\n",
    "    >>> y = K.ones((4, 3, 5))\n",
    "    >>> xy = K.dot(x, y)\n",
    "    >>> K.int_shape(xy)\n",
    "    (2, 4, 5)\n",
    "```\n",
    "\"\"\""
   ]
  },
  {
   "cell_type": "code",
   "execution_count": null,
   "metadata": {
    "collapsed": true
   },
   "outputs": [],
   "source": []
  }
 ],
 "metadata": {
  "kernelspec": {
   "display_name": "Python 3",
   "language": "python",
   "name": "python3"
  },
  "language_info": {
   "codemirror_mode": {
    "name": "ipython",
    "version": 3
   },
   "file_extension": ".py",
   "mimetype": "text/x-python",
   "name": "python",
   "nbconvert_exporter": "python",
   "pygments_lexer": "ipython3",
   "version": "3.6.3"
  }
 },
 "nbformat": 4,
 "nbformat_minor": 2
}
