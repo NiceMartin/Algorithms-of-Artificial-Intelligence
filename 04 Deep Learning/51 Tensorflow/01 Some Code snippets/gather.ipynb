{
 "cells": [
  {
   "cell_type": "code",
   "execution_count": 1,
   "metadata": {},
   "outputs": [
    {
     "name": "stderr",
     "output_type": "stream",
     "text": [
      "/opt/anaconda3/lib/python3.6/importlib/_bootstrap.py:219: RuntimeWarning: compiletime version 3.5 of module 'tensorflow.python.framework.fast_tensor_util' does not match runtime version 3.6\n",
      "  return f(*args, **kwds)\n",
      "/opt/anaconda3/lib/python3.6/site-packages/h5py/__init__.py:34: FutureWarning: Conversion of the second argument of issubdtype from `float` to `np.floating` is deprecated. In future, it will be treated as `np.float64 == np.dtype(float).type`.\n",
      "  from ._conv import register_converters as _register_converters\n"
     ]
    },
    {
     "name": "stdout",
     "output_type": "stream",
     "text": [
      "[ 1 11 21 31 41 51 61 71 81 91]\n",
      "[11 51 91]\n"
     ]
    }
   ],
   "source": [
    "import tensorflow as tf\n",
    "\n",
    "temp = tf.range(0,10)*10 + tf.constant(1,shape=[10])\n",
    "temp2 = tf.gather(temp,[1,5,9])\n",
    "\n",
    "with tf.Session() as sess:\n",
    "    print(sess.run(temp))\n",
    "    print(sess.run(temp2))"
   ]
  },
  {
   "cell_type": "code",
   "execution_count": 5,
   "metadata": {},
   "outputs": [
    {
     "name": "stdout",
     "output_type": "stream",
     "text": [
      "(2,)\n",
      "[[ 1.  2.]\n",
      " [ 3.  4.]\n",
      " [90. 91.]]\n",
      "[[3. 4.]]\n",
      "[3. 4.]\n"
     ]
    }
   ],
   "source": [
    "import tensorflow as tf\n",
    "tmp0 = tf.Variable([90,91], dtype=tf.float32)\n",
    "\n",
    "tmp1 = tf.Variable([[1,2],\n",
    "                     [3,4],\n",
    "                     [5,6]], dtype=tf.float32)\n",
    "tmp3 = tf.scatter_update(tmp1, 2, tmp0)\n",
    "\n",
    "tmp4 = tf.gather(tmp3,[1], axis = 0)\n",
    "print(tmp4.shape[1:])\n",
    "tmp5 = tf.reshape(tmp4, tmp4.shape[1:])\n",
    "\n",
    "with tf.Session() as sess:\n",
    "    sess.run(tf.global_variables_initializer())\n",
    "    print(sess.run(tmp3))\n",
    "    print(sess.run(tmp4))\n",
    "    print(sess.run(tmp5))\n",
    "#     print(sess.run(tmp2))\n",
    "    \n",
    "    "
   ]
  },
  {
   "cell_type": "code",
   "execution_count": null,
   "metadata": {
    "collapsed": true
   },
   "outputs": [],
   "source": []
  }
 ],
 "metadata": {
  "kernelspec": {
   "display_name": "Python 3",
   "language": "python",
   "name": "python3"
  },
  "language_info": {
   "codemirror_mode": {
    "name": "ipython",
    "version": 3
   },
   "file_extension": ".py",
   "mimetype": "text/x-python",
   "name": "python",
   "nbconvert_exporter": "python",
   "pygments_lexer": "ipython3",
   "version": "3.6.3"
  }
 },
 "nbformat": 4,
 "nbformat_minor": 2
}
