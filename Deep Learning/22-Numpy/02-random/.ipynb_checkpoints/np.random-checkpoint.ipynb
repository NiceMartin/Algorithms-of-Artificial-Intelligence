{
 "cells": [
  {
   "cell_type": "code",
   "execution_count": 1,
   "metadata": {
    "collapsed": true
   },
   "outputs": [],
   "source": [
    "import numpy as np"
   ]
  },
  {
   "cell_type": "markdown",
   "metadata": {},
   "source": [
    "# 均匀分布\n",
    "+ np.random.uniform(low=0.0, high=1.0, size=None):\n",
    "+ 从一个均匀分布[low,high)中随机采样，注意定义域是左闭右开，即包含low，不包含high.\n",
    "\n",
    "# 正太分布\n",
    "+ np.random.normal(loc=0.0, scale=1.0, size=None):\n",
    "+ 正态分布"
   ]
  },
  {
   "cell_type": "markdown",
   "metadata": {},
   "source": [
    "# numpy.random.rand(d0,d1,…,dn)\n",
    "+ rand函数根据给定维度生成[0,1)之间的数据，包含0，不包含1\n",
    "+ dn表格每个维度\n",
    "+ 返回值为指定维度的array"
   ]
  },
  {
   "cell_type": "code",
   "execution_count": 2,
   "metadata": {},
   "outputs": [
    {
     "data": {
      "text/plain": [
       "array([[0.77519909, 0.82824485],\n",
       "       [0.32614085, 0.81848333],\n",
       "       [0.1002229 , 0.13739844]])"
      ]
     },
     "execution_count": 2,
     "metadata": {},
     "output_type": "execute_result"
    }
   ],
   "source": [
    "np.random.rand(3,2)"
   ]
  },
  {
   "cell_type": "code",
   "execution_count": 3,
   "metadata": {},
   "outputs": [
    {
     "data": {
      "text/plain": [
       "array([[[0.27879286, 0.25270632],\n",
       "        [0.78298399, 0.18208875]],\n",
       "\n",
       "       [[0.98722879, 0.98407517],\n",
       "        [0.74173717, 0.44400393]],\n",
       "\n",
       "       [[0.21091472, 0.88837361],\n",
       "        [0.37729933, 0.40847347]]])"
      ]
     },
     "execution_count": 3,
     "metadata": {},
     "output_type": "execute_result"
    }
   ],
   "source": [
    "np.random.rand(3,2,2)"
   ]
  },
  {
   "cell_type": "markdown",
   "metadata": {},
   "source": [
    "# numpy.random.randn(d0,d1,…,dn)\n",
    "+ randn函数返回一个或一组样本，具有标准正态分布。\n",
    "+ dn表格每个维度\n",
    "+ 返回值为指定维度的array\n",
    "+ 标准正态分布介绍\n",
    "    + 标准正态分布—-standard normal distribution\n",
    "    + 标准正态分布又称为u分布，是以0为均值、以1为标准差的正态分布，记为N（0，1）"
   ]
  },
  {
   "cell_type": "markdown",
   "metadata": {},
   "source": [
    "# numpy.random.randint(low, high=None, size=None, dtype=’l’)\n",
    "+ 返回随机整数，范围区间为[low,high），包含low，不包含high\n",
    "+ 参数：low为最小值，high为最大值，size为数组维度大小，dtype为数据类型，默认的数据类型是np.int\n",
    "+ high没有填写时，默认生成随机数的范围是[0，low)"
   ]
  },
  {
   "cell_type": "code",
   "execution_count": 4,
   "metadata": {},
   "outputs": [
    {
     "data": {
      "text/plain": [
       "array([0, 0, 0, 0, 0])"
      ]
     },
     "execution_count": 4,
     "metadata": {},
     "output_type": "execute_result"
    }
   ],
   "source": [
    "np.random.randint(1,size=5) # 返回[0,1)之间的整数，所以只有0"
   ]
  },
  {
   "cell_type": "code",
   "execution_count": 5,
   "metadata": {},
   "outputs": [
    {
     "data": {
      "text/plain": [
       "array([1, 2, 3, 6, 5])"
      ]
     },
     "execution_count": 5,
     "metadata": {},
     "output_type": "execute_result"
    }
   ],
   "source": [
    "np.random.randint(1,10,size=5) # 返回[0,1)之间的整数，所以只有0"
   ]
  },
  {
   "cell_type": "code",
   "execution_count": 6,
   "metadata": {},
   "outputs": [
    {
     "data": {
      "text/plain": [
       "array([[1, 6, 9],\n",
       "       [1, 2, 4]])"
      ]
     },
     "execution_count": 6,
     "metadata": {},
     "output_type": "execute_result"
    }
   ],
   "source": [
    "np.random.randint(1,10, size=(2,3)) # 返回[0,1)之间的整数，所以只有0"
   ]
  },
  {
   "cell_type": "markdown",
   "metadata": {},
   "source": [
    "# 生成[0,1)之间的浮点数\n",
    "+ numpy.random.random_sample(size=None)\n",
    "+ numpy.random.random(size=None)\n",
    "+ numpy.random.ranf(size=None)\n",
    "+ numpy.random.sample(size=None)"
   ]
  },
  {
   "cell_type": "code",
   "execution_count": 7,
   "metadata": {},
   "outputs": [
    {
     "name": "stdout",
     "output_type": "stream",
     "text": [
      "-----------random_sample--------------\n",
      "[[0.56691379 0.32996418]\n",
      " [0.08253883 0.4076677 ]]\n",
      "-----------random--------------\n",
      "[[0.04327094 0.03483217]\n",
      " [0.62287854 0.16635707]]\n",
      "-----------ranf--------------\n",
      "[[0.36024728 0.51642917]\n",
      " [0.37898007 0.78412046]]\n",
      "-----------sample--------------\n",
      "[[0.98866129 0.49887959]\n",
      " [0.73710695 0.29226851]]\n"
     ]
    }
   ],
   "source": [
    "print('-----------random_sample--------------')\n",
    "print(np.random.random_sample(size=(2,2)))\n",
    "print('-----------random--------------')\n",
    "print(np.random.random(size=(2,2)))\n",
    "print('-----------ranf--------------')\n",
    "print(np.random.ranf(size=(2,2)))\n",
    "print('-----------sample--------------')\n",
    "print(np.random.sample(size=(2,2)))"
   ]
  },
  {
   "cell_type": "markdown",
   "metadata": {},
   "source": [
    "# numpy.random.choice()\n",
    "+ numpy.random.choice(a, size=None, replace=True, p=None)\n",
    "+ 从给定的一维数组中生成随机数\n",
    "+ 参数： a为一维数组类似数据或整数；size为数组维度；p为数组中的数据出现的概率\n",
    "+ a为整数时，对应的一维数组为np.arange(a)"
   ]
  },
  {
   "cell_type": "code",
   "execution_count": 12,
   "metadata": {},
   "outputs": [
    {
     "data": {
      "text/plain": [
       "array([0, 3, 2])"
      ]
     },
     "execution_count": 12,
     "metadata": {},
     "output_type": "execute_result"
    }
   ],
   "source": [
    "np.random.choice(5, 3, replace=False)\n",
    "# 当replace为False时，生成的随机数不能有重复的数值"
   ]
  },
  {
   "cell_type": "code",
   "execution_count": 13,
   "metadata": {},
   "outputs": [
    {
     "data": {
      "text/plain": [
       "array([1, 1, 0])"
      ]
     },
     "execution_count": 13,
     "metadata": {},
     "output_type": "execute_result"
    }
   ],
   "source": [
    "np.random.choice(5, 3)"
   ]
  },
  {
   "cell_type": "markdown",
   "metadata": {},
   "source": [
    "# numpy.random.seed()\n",
    "+ np.random.seed()的作用：使得随机数据可预测。\n",
    "+ 当我们设置相同的seed，每次生成的随机数相同。如果不设置seed，则每次会生成不同的随机数"
   ]
  },
  {
   "cell_type": "code",
   "execution_count": 9,
   "metadata": {},
   "outputs": [
    {
     "data": {
      "text/plain": [
       "array([0.5488135 , 0.71518937, 0.60276338, 0.54488318, 0.4236548 ])"
      ]
     },
     "execution_count": 9,
     "metadata": {},
     "output_type": "execute_result"
    }
   ],
   "source": [
    "np.random.seed(0)\n",
    "np.random.rand(5)"
   ]
  },
  {
   "cell_type": "code",
   "execution_count": 10,
   "metadata": {},
   "outputs": [
    {
     "data": {
      "text/plain": [
       "array([0.39983389, 0.29426895, 0.89541728, 0.71807369, 0.3531823 ])"
      ]
     },
     "execution_count": 10,
     "metadata": {},
     "output_type": "execute_result"
    }
   ],
   "source": [
    "np.random.seed(1676)\n",
    "np.random.rand(5)"
   ]
  },
  {
   "cell_type": "code",
   "execution_count": 11,
   "metadata": {},
   "outputs": [
    {
     "data": {
      "text/plain": [
       "array([0.39983389, 0.29426895, 0.89541728, 0.71807369, 0.3531823 ])"
      ]
     },
     "execution_count": 11,
     "metadata": {},
     "output_type": "execute_result"
    }
   ],
   "source": [
    "np.random.seed(1676)\n",
    "np.random.rand(5)"
   ]
  },
  {
   "cell_type": "markdown",
   "metadata": {},
   "source": [
    "# numpy.random.shuffle(x)\n",
    "+ 对X进行重排序，如果X为多维数组，只沿第一条轴洗牌，输出为None"
   ]
  },
  {
   "cell_type": "code",
   "execution_count": 20,
   "metadata": {},
   "outputs": [
    {
     "name": "stdout",
     "output_type": "stream",
     "text": [
      "None\n",
      "[3, 4, 2, 1, 5]\n",
      "[[0 1 2]\n",
      " [3 4 5]\n",
      " [6 7 8]]\n",
      "None\n",
      "[[3 4 5]\n",
      " [6 7 8]\n",
      " [0 1 2]]\n"
     ]
    }
   ],
   "source": [
    "#numpy.random.shuffle(x)\n",
    "import numpy as np\n",
    "list1 = [1,2,3,4,5]\n",
    "print(np.random.shuffle(list1)) # 一维数组输出为None\n",
    "print(list1) # list1 原始的list 会被修改\n",
    "arr = np.arange(9).reshape(3,3)\n",
    "print(arr)\n",
    "print(np.random.shuffle(arr))#对于多维数组，只沿着第一条轴打乱顺序\n",
    "print(arr)"
   ]
  },
  {
   "cell_type": "markdown",
   "metadata": {},
   "source": [
    "# numpy.random.permutation(x)\n",
    "+ 与numpy.random.shuffle(x)函数功能相同，两者区别：peumutation(x)不会修改X的顺序。"
   ]
  },
  {
   "cell_type": "code",
   "execution_count": 17,
   "metadata": {},
   "outputs": [
    {
     "name": "stdout",
     "output_type": "stream",
     "text": [
      "[1 4 2 0 3]\n",
      "[3 4 1 2]\n",
      "[4 0 5 7 1 2 3 8 6]\n",
      "[[0 1 2]\n",
      " [3 4 5]\n",
      " [6 7 8]]\n"
     ]
    }
   ],
   "source": [
    "#numpy.random.permutation(x)\n",
    "import numpy as np\n",
    "#x=5\n",
    "print(np.random.permutation(5))#生成一个range(5)随机顺序的数组\n",
    "#x为列表或元组\n",
    "list1 = [1,2,3,4]\n",
    "print(np.random.permutation(list1))#array([2, 1, 4, 3])\n",
    "#list1#[1, 2, 3, 4]\n",
    "#x为数组\n",
    "arr = np.arange(9)\n",
    "print(np.random.permutation(arr))\n",
    "arr2 = np.arange(9).reshape(3,3)\n",
    "print(arr2)"
   ]
  },
  {
   "cell_type": "code",
   "execution_count": null,
   "metadata": {
    "collapsed": true
   },
   "outputs": [],
   "source": []
  }
 ],
 "metadata": {
  "kernelspec": {
   "display_name": "Python 3",
   "language": "python",
   "name": "python3"
  },
  "language_info": {
   "codemirror_mode": {
    "name": "ipython",
    "version": 3
   },
   "file_extension": ".py",
   "mimetype": "text/x-python",
   "name": "python",
   "nbconvert_exporter": "python",
   "pygments_lexer": "ipython3",
   "version": "3.6.3"
  }
 },
 "nbformat": 4,
 "nbformat_minor": 2
}
