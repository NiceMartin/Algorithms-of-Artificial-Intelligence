{
 "cells": [
  {
   "cell_type": "code",
   "execution_count": 10,
   "metadata": {},
   "outputs": [
    {
     "name": "stdout",
     "output_type": "stream",
     "text": [
      "(1, 2)\n",
      "(2, 2)\n",
      "[[3 4]\n",
      " [6 8]]\n",
      "[[33 44]]\n",
      "[[25]\n",
      " [50]]\n"
     ]
    }
   ],
   "source": [
    "from keras import backend as K\n",
    "import numpy as np\n",
    "import tensorflow as tf\n",
    "\n",
    "# tensor1 = tf.constant([[1,2],[1,2]])\n",
    "# tensor2 = tf.constant([[3,4],[3,4]])\n",
    "\n",
    "# 1 * 3, 4 \n",
    "# 2\n",
    "\n",
    "tensor1 = tf.constant([[1],[2]])\n",
    "tensor2 = tf.constant([[3,4]])\n",
    "\n",
    "mul = K.dot(tensor1,tensor2)\n",
    "\n",
    "print(tensor2.shape)\n",
    "print(mul.shape)\n",
    "mul1 = K.dot(tensor2, mul) # 1*2  2*2\n",
    "mul2 = K.dot(mul,  tf.transpose(tensor2))\n",
    "\n",
    "with tf.Session() as sess:\n",
    "    output = sess.run(mul)\n",
    "    print(output)\n",
    "    output = sess.run(mul1)\n",
    "    print(output)\n",
    "    output = sess.run(mul2)\n",
    "    print(output)"
   ]
  },
  {
   "cell_type": "code",
   "execution_count": null,
   "metadata": {
    "collapsed": true
   },
   "outputs": [],
   "source": []
  }
 ],
 "metadata": {
  "kernelspec": {
   "display_name": "Python 3",
   "language": "python",
   "name": "python3"
  },
  "language_info": {
   "codemirror_mode": {
    "name": "ipython",
    "version": 3
   },
   "file_extension": ".py",
   "mimetype": "text/x-python",
   "name": "python",
   "nbconvert_exporter": "python",
   "pygments_lexer": "ipython3",
   "version": "3.6.3"
  }
 },
 "nbformat": 4,
 "nbformat_minor": 2
}
