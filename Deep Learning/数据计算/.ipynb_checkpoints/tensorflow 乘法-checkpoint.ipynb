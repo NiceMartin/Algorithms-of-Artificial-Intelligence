{
 "cells": [
  {
   "cell_type": "code",
   "execution_count": null,
   "metadata": {
    "collapsed": true
   },
   "outputs": [],
   "source": [
    "# https://www.w3cschool.cn/tensorflow_python/tensorflow_python-l5x72feg.html\n",
    "# 参数：\n",
    "\n",
    "# a：类型为 float16，float32，float64，int32，complex64，complex128 和 rank > 1的张量。\n",
    "# b：与 a 具有相同类型和 rank。\n",
    "# transpose_a：如果 True，a 在乘法之前转置。\n",
    "# transpose_b：如果 True，b 在乘法之前转置。\n",
    "# adjoint_a：如果 True，a 在乘法之前共轭和转置。\n",
    "# adjoint_b：如果 True，b 在乘法之前共轭和转置。\n",
    "# a_is_sparse：如果 True，a 被视为稀疏矩阵。\n",
    "# b_is_sparse：如果 True，b 被视为稀疏矩阵。\n",
    "# name：操作名称（可选）。\n",
    "\n"
   ]
  },
  {
   "cell_type": "code",
   "execution_count": 4,
   "metadata": {},
   "outputs": [
    {
     "name": "stdout",
     "output_type": "stream",
     "text": [
      "Tensor(\"Const_8:0\", shape=(2, 3), dtype=int32)\n",
      "Tensor(\"Const_9:0\", shape=(3, 2), dtype=int32)\n",
      "Tensor(\"MatMul_4:0\", shape=(2, 2), dtype=int32)\n",
      "a= [[1 2 3]\n",
      " [4 5 6]]\n",
      "b= [[ 7  8]\n",
      " [ 9 10]\n",
      " [11 12]]\n",
      "c= [[ 58  64]\n",
      " [139 154]]\n"
     ]
    }
   ],
   "source": [
    "# tf.matmul 矩阵之间相乘, 不能进行矩阵和向量之间相乘\n",
    "import tensorflow as tf\n",
    "import numpy as np\n",
    " \n",
    "a = tf.constant([1, 2, 3, 4, 5, 6], shape=[2, 3])\n",
    "b = tf.constant([7, 8, 9, 10, 11, 12], shape=[3, 2])\n",
    "c = tf.matmul(a, b)\n",
    " \n",
    "print(a)\n",
    "print(b)\n",
    "print(c)\n",
    " \n",
    "# 在运行图计算之前，先初始化全局变量.\n",
    "init = tf.global_variables_initializer()\n",
    " \n",
    "# 准备会话来运行图.\n",
    "with tf.Session() as sess:\n",
    "    sess.run(init)\n",
    " \n",
    "    print('a=', a.eval())\n",
    "    print('b=', b.eval())\n",
    "    print('c=', c.eval()) \n",
    "    \n",
    "# print('\\n\\n3-D')\n",
    "# #三维张量\n",
    "# a = tf.constant(np.arange(1,13), shape=[2, 2, 3])\n",
    "# b = tf.constant(np.arange(13,25), shape=[2, 3, 2])\n",
    "# c = tf.matmul(a, b)\n",
    "# # 准备会话来运行图.\n",
    "# with tf.Session() as sess:\n",
    "#     sess.run(init)\n",
    " \n",
    "#     print('a=', a.eval())\n",
    "#     print('b=', b.eval())\n",
    "#     print('c=', c.eval()) "
   ]
  },
  {
   "cell_type": "code",
   "execution_count": 11,
   "metadata": {},
   "outputs": [
    {
     "name": "stdout",
     "output_type": "stream",
     "text": [
      "[ 6 11]\n"
     ]
    }
   ],
   "source": [
    "# https://blog.csdn.net/yjt1325/article/details/79758602\n",
    "# 矩阵向量相乘\n",
    "# 2,3 * 0 1\n",
    "#       2 3\n",
    "import tensorflow as tf\n",
    "a = tf.constant([2, 3])\n",
    "b = tf.constant([[0, 1], [2, 3]])\n",
    "mul =tf.reduce_sum(tf.multiply(a, tf.transpose(b, perm=[1, 0])), reduction_indices=1)\n",
    "with tf.Session() as sess:\n",
    "     print(sess.run(mul))"
   ]
  },
  {
   "cell_type": "code",
   "execution_count": null,
   "metadata": {
    "collapsed": true
   },
   "outputs": [],
   "source": [
    "# https://blog.csdn.net/flyfish1986/article/details/79141763\n",
    "# TensorFlow - tf.multiply和tf.matmul 区别"
   ]
  }
 ],
 "metadata": {
  "kernelspec": {
   "display_name": "Python 3",
   "language": "python",
   "name": "python3"
  },
  "language_info": {
   "codemirror_mode": {
    "name": "ipython",
    "version": 3
   },
   "file_extension": ".py",
   "mimetype": "text/x-python",
   "name": "python",
   "nbconvert_exporter": "python",
   "pygments_lexer": "ipython3",
   "version": "3.6.3"
  }
 },
 "nbformat": 4,
 "nbformat_minor": 2
}
