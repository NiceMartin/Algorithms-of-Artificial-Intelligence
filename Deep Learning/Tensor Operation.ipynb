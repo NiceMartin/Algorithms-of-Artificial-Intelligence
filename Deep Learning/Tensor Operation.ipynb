{
 "cells": [
  {
   "cell_type": "code",
   "execution_count": 1,
   "metadata": {},
   "outputs": [
    {
     "name": "stderr",
     "output_type": "stream",
     "text": [
      "/opt/anaconda3/lib/python3.6/importlib/_bootstrap.py:219: RuntimeWarning: compiletime version 3.5 of module 'tensorflow.python.framework.fast_tensor_util' does not match runtime version 3.6\n",
      "  return f(*args, **kwds)\n"
     ]
    }
   ],
   "source": [
    "import tensorflow as tf\n",
    "sess = tf.Session()"
   ]
  },
  {
   "cell_type": "code",
   "execution_count": 4,
   "metadata": {},
   "outputs": [
    {
     "name": "stdout",
     "output_type": "stream",
     "text": [
      "[[ 0.52872086  0.13738121 -0.02748405]\n",
      " [ 0.12851319  0.63279653  0.54203308]\n",
      " [-0.38942128  0.33467355 -0.07482897]\n",
      " [ 0.39736488  0.04524826  0.5549919 ]]\n",
      "[ 0.  0.  0.]\n"
     ]
    }
   ],
   "source": [
    "# Tensor 的定义\n",
    "# 属性: name, shape, type\n",
    "# 常量\n",
    "a = tf.constant([1.0,2.0], name='a')\n",
    "# 变量 Create two variables.\n",
    "weights = tf.Variable(tf.random_normal([4, 3], stddev=0.35),\n",
    "                      name=\"weights\")\n",
    "biases = tf.Variable(tf.zeros([3]), name=\"biases\")\n",
    "\n",
    "init_op = tf.initialize_all_variables()\n",
    "\n",
    "with tf.Session() as sess:\n",
    "    sess.run(init_op)\n",
    "    print(sess.run(weights))\n",
    "    print(sess.run(biases))"
   ]
  },
  {
   "cell_type": "code",
   "execution_count": 3,
   "metadata": {},
   "outputs": [
    {
     "name": "stdout",
     "output_type": "stream",
     "text": [
      "[[ 0.68465811 -1.58034468]\n",
      " [ 0.15035874  0.92607343]]\n"
     ]
    }
   ],
   "source": [
    "sess = tf.Session()\n",
    "## Tensorflow 数学计算和逻辑计算\n",
    "ts1=tf.constant(1.0,shape=[2,2])  \n",
    "ts2=tf.Variable(tf.random_normal([2,2]))  \n",
    "sess.run(tf.global_variables_initializer())  \n",
    "ts_add1=tf.add(ts1,ts2,name=None)  \n",
    "ts_add2=ts1+ts2       #二者等价  \n",
    "\n",
    "# print(ts_add1.eval())\n",
    "# print(ts_add2.eval())\n",
    "print(sess.run(ts_add1))"
   ]
  },
  {
   "cell_type": "code",
   "execution_count": 4,
   "metadata": {},
   "outputs": [
    {
     "name": "stdout",
     "output_type": "stream",
     "text": [
      "30.0\n"
     ]
    }
   ],
   "source": [
    "import tensorflow as tf  \n",
    "a = tf.constant(5.0)  \n",
    "b = tf.constant(6.0)  \n",
    "c = a * b  \n",
    "with tf.Session():  \n",
    "  # We can also use 'c.eval()' here.  \n",
    "  print(c.eval())  "
   ]
  },
  {
   "cell_type": "code",
   "execution_count": 6,
   "metadata": {},
   "outputs": [
    {
     "name": "stdout",
     "output_type": "stream",
     "text": [
      "Tensor(\"zeros_1:0\", shape=(2, 2), dtype=float32)\n"
     ]
    }
   ],
   "source": [
    "# tensorflow 和 numpy 在 显示上的区别\n",
    "ta = tf.zeros((2,2))\n",
    "print(ta)\n",
    "# print(ta.eval()) 无效"
   ]
  },
  {
   "cell_type": "code",
   "execution_count": null,
   "metadata": {
    "collapsed": true
   },
   "outputs": [],
   "source": [
    "# 加法"
   ]
  },
  {
   "cell_type": "code",
   "execution_count": null,
   "metadata": {
    "collapsed": true
   },
   "outputs": [],
   "source": [
    "# 乘法\n",
    "# Tensor\n",
    "# A * B 表示按元素计算\n",
    "# tf.mul(A,B)  表示按元素计算\n",
    "tf.matmul(A,B) 表示矩阵乘法\n",
    "# Numpy\n",
    "# A * B 表示按元素计算\n",
    "# dot(A,B)表示矩阵乘法"
   ]
  }
 ],
 "metadata": {
  "kernelspec": {
   "display_name": "Python 3",
   "language": "python",
   "name": "python3"
  },
  "language_info": {
   "codemirror_mode": {
    "name": "ipython",
    "version": 3
   },
   "file_extension": ".py",
   "mimetype": "text/x-python",
   "name": "python",
   "nbconvert_exporter": "python",
   "pygments_lexer": "ipython3",
   "version": "3.6.3"
  }
 },
 "nbformat": 4,
 "nbformat_minor": 2
}
