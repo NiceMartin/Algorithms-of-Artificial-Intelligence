{
 "cells": [
  {
   "cell_type": "markdown",
   "metadata": {},
   "source": [
    "### Padding\n",
    "+ 卷积\n",
    "    + same padding\n",
    "        + 大小不变\n",
    "    + valid padding\n",
    "        + 变小\n",
    "+ 池化\n",
    "    + same padding\n",
    "        + 变大, 平面外补0\n",
    "    + valid padding\n",
    "        + 大小不变"
   ]
  }
 ],
 "metadata": {
  "kernelspec": {
   "display_name": "Python 3",
   "language": "python",
   "name": "python3"
  },
  "language_info": {
   "codemirror_mode": {
    "name": "ipython",
    "version": 3
   },
   "file_extension": ".py",
   "mimetype": "text/x-python",
   "name": "python",
   "nbconvert_exporter": "python",
   "pygments_lexer": "ipython3",
   "version": "3.6.3"
  }
 },
 "nbformat": 4,
 "nbformat_minor": 2
}
