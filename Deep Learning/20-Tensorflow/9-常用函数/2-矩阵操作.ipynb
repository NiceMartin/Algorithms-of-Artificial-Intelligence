{
 "cells": [
  {
   "cell_type": "code",
   "execution_count": null,
   "metadata": {
    "collapsed": true
   },
   "outputs": [],
   "source": [
    "tf.diag(diagonal, name=None)\t返回一个给定对角值的对角tensor\n",
    "# ‘diagonal’ is [1, 2, 3, 4]\n",
    "tf.diag(diagonal) ==> \n",
    "[[1, 0, 0, 0]\n",
    "[0, 2, 0, 0]\n",
    "[0, 0, 3, 0]\n",
    "[0, 0, 0, 4]]"
   ]
  },
  {
   "cell_type": "code",
   "execution_count": null,
   "metadata": {
    "collapsed": true
   },
   "outputs": [],
   "source": [
    "tf.diag_part(input, name=None)\t功能与上面相反"
   ]
  },
  {
   "cell_type": "code",
   "execution_count": null,
   "metadata": {
    "collapsed": true
   },
   "outputs": [],
   "source": [
    "tf.trace(x, name=None)\t求一个2维tensor足迹，即对角值diagonal之和"
   ]
  },
  {
   "cell_type": "code",
   "execution_count": null,
   "metadata": {
    "collapsed": true
   },
   "outputs": [],
   "source": [
    "tf.transpose(a, perm=None, name=’transpose’)\t调换tensor的维度顺序\n",
    "按照列表perm的维度排列调换tensor顺序，\n",
    "如为定义，则perm为(n-1…0)\n",
    "# ‘x’ is [[1 2 3],[4 5 6]]\n",
    "tf.transpose(x) ==> [[1 4], [2 5],[3 6]]\n",
    "# Equivalently\n",
    "tf.transpose(x, perm=[1, 0]) ==> [[1 4],[2 5], [3 6]]"
   ]
  },
  {
   "cell_type": "code",
   "execution_count": null,
   "metadata": {
    "collapsed": true
   },
   "outputs": [],
   "source": [
    "tf.matmul(a, b, transpose_a=False, \n",
    "transpose_b=False, a_is_sparse=False, \n",
    "b_is_sparse=False, name=None)\t矩阵相乘"
   ]
  },
  {
   "cell_type": "code",
   "execution_count": null,
   "metadata": {
    "collapsed": true
   },
   "outputs": [],
   "source": [
    "tf.matrix_determinant(input, name=None)\t返回方阵的行列式"
   ]
  },
  {
   "cell_type": "code",
   "execution_count": null,
   "metadata": {
    "collapsed": true
   },
   "outputs": [],
   "source": [
    "tf.matrix_inverse(input, adjoint=None, name=None)\t求方阵的逆矩阵，adjoint为True时，计算输入共轭矩阵的逆矩阵"
   ]
  },
  {
   "cell_type": "code",
   "execution_count": null,
   "metadata": {
    "collapsed": true
   },
   "outputs": [],
   "source": [
    "tf.cholesky(input, name=None)\t对输入方阵cholesky分解，\n",
    "即把一个对称正定的矩阵表示成一个下三角矩阵L和其转置的乘积的分解A=LL^T"
   ]
  },
  {
   "cell_type": "code",
   "execution_count": null,
   "metadata": {
    "collapsed": true
   },
   "outputs": [],
   "source": [
    "tf.matrix_solve(matrix, rhs, adjoint=None, name=None)\t求解tf.matrix_solve(matrix, rhs, adjoint=None, name=None)\n",
    "matrix为方阵shape为[M,M],rhs的shape为[M,K]，output为[M,K]"
   ]
  }
 ],
 "metadata": {
  "kernelspec": {
   "display_name": "Python 3",
   "language": "python",
   "name": "python3"
  },
  "language_info": {
   "codemirror_mode": {
    "name": "ipython",
    "version": 3
   },
   "file_extension": ".py",
   "mimetype": "text/x-python",
   "name": "python",
   "nbconvert_exporter": "python",
   "pygments_lexer": "ipython3",
   "version": "3.6.3"
  }
 },
 "nbformat": 4,
 "nbformat_minor": 2
}
