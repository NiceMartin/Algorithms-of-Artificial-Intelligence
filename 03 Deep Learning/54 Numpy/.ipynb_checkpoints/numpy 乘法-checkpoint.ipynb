{
 "cells": [
  {
   "cell_type": "code",
   "execution_count": 6,
   "metadata": {},
   "outputs": [
    {
     "name": "stdout",
     "output_type": "stream",
     "text": [
      "[ 4 10 18]\n",
      "[ 4 10 18]\n",
      "32\n"
     ]
    }
   ],
   "source": [
    "# 当为array的时候，\n",
    "# 默认d*f就是对应元素的乘积，\n",
    "# multiply也是对应元素的乘积，\n",
    "# dot（d,f）会转化为矩阵的乘积， dot点乘意味着相加，而multiply只是对应元素相乘，不相加\n",
    "\n",
    "\n",
    "import numpy as np\n",
    "\n",
    "l1 = np.array([1,2,3])\n",
    "l2 = np.array([4,5,6])\n",
    "print(l1*l2)\n",
    "print(np.multiply(l1,l2))\n",
    "print(np.dot(l1,l2))"
   ]
  },
  {
   "cell_type": "code",
   "execution_count": 30,
   "metadata": {},
   "outputs": [
    {
     "name": "stdout",
     "output_type": "stream",
     "text": [
      "[[1 2 3]\n",
      " [3 4 5]\n",
      " [1 2 5]]\n",
      "[[ 7  8  9]\n",
      " [ 9 10 11]\n",
      " [11 12 13]\n",
      " [ 1  2  3]]\n",
      "[[ 40  64 106]\n",
      " [ 50  80 132]\n",
      " [ 60  96 158]\n",
      " [ 10  16  28]]\n"
     ]
    }
   ],
   "source": [
    "# 当为mat的时候，默认d*f就是矩阵的乘积，multiply转化为对应元素的乘积，dot（d,f）为矩阵的乘积\n",
    "\n",
    "l1 = np.array([[1,2,3],[3,4,5], [1,2,5]]) #　2*4\n",
    "l2 = np.array([[7,8,9], [9,10,11], [11,12,13], [1,2,3]]) # 2 * 4\n",
    "print(l1)\n",
    "print(l2)\n",
    "# print(l1*l2) #不可用\n",
    "# print(np.multiply(l2,l1)) # 不可用\n",
    "print(np.dot(l2,l1)) # 矩阵乘"
   ]
  },
  {
   "cell_type": "code",
   "execution_count": 29,
   "metadata": {},
   "outputs": [
    {
     "name": "stdout",
     "output_type": "stream",
     "text": [
      "[[ 7 16 27]\n",
      " [27 40 55]\n",
      " [11 24 65]]\n",
      "[[ 7 16 27]\n",
      " [27 40 55]\n",
      " [11 24 65]]\n",
      "[[ 40  64 106]\n",
      " [ 50  80 132]\n",
      " [ 60  96 158]]\n"
     ]
    }
   ],
   "source": [
    "l1 = np.array([[1,2,3],[3,4,5], [1,2,5]]) #　2*4\n",
    "l2 = np.array([[7,8,9], [9,10,11], [11,12,13]]) # 2 * 4\n",
    "# print(l1)\n",
    "# print(l2)\n",
    "print(l1*l2) # 维度相同的情况可用, 对应元素相乘\n",
    "print(np.multiply(l2,l1)) # 维度相同的情况可用, 对应元素相乘\n",
    "print(np.dot(l2,l1))"
   ]
  },
  {
   "cell_type": "code",
   "execution_count": null,
   "metadata": {
    "collapsed": true
   },
   "outputs": [],
   "source": [
    "# 混合时候的情况，一般不要混合\n",
    "# 混合的时候默认按照矩阵乘法的, multiply转化为对应元素的乘积，dot（d,f）为矩阵的乘积"
   ]
  }
 ],
 "metadata": {
  "kernelspec": {
   "display_name": "Python 3",
   "language": "python",
   "name": "python3"
  },
  "language_info": {
   "codemirror_mode": {
    "name": "ipython",
    "version": 3
   },
   "file_extension": ".py",
   "mimetype": "text/x-python",
   "name": "python",
   "nbconvert_exporter": "python",
   "pygments_lexer": "ipython3",
   "version": "3.6.3"
  }
 },
 "nbformat": 4,
 "nbformat_minor": 2
}
