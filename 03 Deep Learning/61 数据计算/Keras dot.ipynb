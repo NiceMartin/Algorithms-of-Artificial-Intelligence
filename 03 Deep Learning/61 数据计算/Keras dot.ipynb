{
 "cells": [
  {
   "cell_type": "code",
   "execution_count": null,
   "metadata": {
    "collapsed": true
   },
   "outputs": [],
   "source": []
  },
  {
   "cell_type": "code",
   "execution_count": null,
   "metadata": {
    "collapsed": true
   },
   "outputs": [],
   "source": [
    "   \"\"\"Multiplies 2 tensors (and/or variables) and returns a *tensor*.\n",
    "\n",
    "    When attempting to multiply a nD tensor\n",
    "    with a nD tensor, it reproduces the Theano behavior.\n",
    "    (e.g. `(2, 3) * (4, 3, 5) -> (2, 4, 5)`)\n",
    "\n",
    "    # Arguments\n",
    "        x: Tensor or variable.\n",
    "        y: Tensor or variable.\n",
    "\n",
    "    # Returns\n",
    "        A tensor, dot product of `x` and `y`.\n",
    "\n",
    "    # Examples\n",
    "    ```python\n",
    "        # dot product between tensors\n",
    "        >>> x = K.placeholder(shape=(2, 3))\n",
    "        >>> y = K.placeholder(shape=(3, 4))\n",
    "        >>> xy = K.dot(x, y)\n",
    "        >>> xy\n",
    "        <tf.Tensor 'MatMul_9:0' shape=(2, 4) dtype=float32>\n",
    "    ```\n",
    "\n",
    "    ```python\n",
    "        # dot product between tensors\n",
    "        >>> x = K.placeholder(shape=(32, 28, 3))\n",
    "        >>> y = K.placeholder(shape=(3, 4))\n",
    "        >>> xy = K.dot(x, y)\n",
    "        >>> xy\n",
    "        <tf.Tensor 'MatMul_9:0' shape=(32, 28, 4) dtype=float32>\n",
    "    ```\n",
    "\n",
    "    ```python\n",
    "        # Theano-like behavior example\n",
    "        >>> x = K.random_uniform_variable(shape=(2, 3), low=0, high=1)\n",
    "        >>> y = K.ones((4, 3, 5))\n",
    "        >>> xy = K.dot(x, y)\n",
    "        >>> K.int_shape(xy)\n",
    "        (2, 4, 5)\n",
    "    ```\n",
    "    \"\"\""
   ]
  }
 ],
 "metadata": {
  "kernelspec": {
   "display_name": "Python 3",
   "language": "python",
   "name": "python3"
  },
  "language_info": {
   "codemirror_mode": {
    "name": "ipython",
    "version": 3
   },
   "file_extension": ".py",
   "mimetype": "text/x-python",
   "name": "python",
   "nbconvert_exporter": "python",
   "pygments_lexer": "ipython3",
   "version": "3.6.3"
  }
 },
 "nbformat": 4,
 "nbformat_minor": 2
}
