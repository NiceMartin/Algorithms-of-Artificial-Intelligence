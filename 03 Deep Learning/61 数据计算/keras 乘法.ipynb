{
 "cells": [
  {
   "cell_type": "code",
   "execution_count": null,
   "metadata": {
    "collapsed": true
   },
   "outputs": [],
   "source": [
    "# dot"
   ]
  },
  {
   "cell_type": "code",
   "execution_count": 2,
   "metadata": {},
   "outputs": [
    {
     "name": "stdout",
     "output_type": "stream",
     "text": [
      "[[ 33  33  33  33]\n",
      " [ 66  66  66  66]\n",
      " [ 99  99  99  99]\n",
      " [132 132 132 132]]\n"
     ]
    }
   ],
   "source": [
    "from keras import backend as K\n",
    "import numpy as np\n",
    "import tensorflow as tf\n",
    "tensor1 = tf.constant([[1,1],[2,2],[3,3],[4,4]])\n",
    "tensor2 = tf.constant([[11,11,11,11],[22,22,22,22]])\n",
    "mul = K.dot(tensor1,tensor2)\n",
    "\n",
    "with tf.Session() as sess:\n",
    "    output = sess.run(mul)\n",
    "    print(output)"
   ]
  },
  {
   "cell_type": "code",
   "execution_count": 15,
   "metadata": {},
   "outputs": [
    {
     "name": "stdout",
     "output_type": "stream",
     "text": [
      "[[3 4]\n",
      " [6 8]]\n"
     ]
    }
   ],
   "source": [
    "from keras import backend as K\n",
    "import numpy as np\n",
    "import tensorflow as tf\n",
    "tensor1 = tf.constant([[1],[2]])\n",
    "tensor2 = tf.constant([[3,4]])\n",
    "mul = K.dot(tensor1,tensor2)\n",
    "\n",
    "with tf.Session() as sess:\n",
    "    output = sess.run(mul)\n",
    "    print(output)"
   ]
  },
  {
   "cell_type": "code",
   "execution_count": 17,
   "metadata": {},
   "outputs": [
    {
     "name": "stdout",
     "output_type": "stream",
     "text": [
      "(2, 2, 1)\n",
      "(1, 2)\n",
      "[[[ 3  4]\n",
      "  [ 6  8]]\n",
      "\n",
      " [[15 20]\n",
      "  [18 24]]]\n"
     ]
    }
   ],
   "source": [
    "from keras import backend as K\n",
    "import numpy as np\n",
    "import tensorflow as tf\n",
    "\n",
    "tensor1 = tf.constant([[[1],[2]], [[5],[6]]])\n",
    "print(tensor1.shape)\n",
    "tensor2 = tf.constant([[3,4]])\n",
    "print(tensor2.shape)\n",
    "mul = K.dot(tensor1,tensor2)\n",
    "\n",
    "with tf.Session() as sess:\n",
    "    output = sess.run(mul)\n",
    "    print(output)"
   ]
  },
  {
   "cell_type": "code",
   "execution_count": null,
   "metadata": {
    "collapsed": true
   },
   "outputs": [],
   "source": [
    "# batch-dot"
   ]
  },
  {
   "cell_type": "code",
   "execution_count": 19,
   "metadata": {},
   "outputs": [
    {
     "name": "stdout",
     "output_type": "stream",
     "text": [
      "(2, 2, 1)\n",
      "(2, 1, 2)\n",
      "[[[ 3  4]\n",
      "  [ 6  8]]\n",
      "\n",
      " [[15 20]\n",
      "  [18 24]]]\n"
     ]
    }
   ],
   "source": [
    "from keras import backend as K\n",
    "import numpy as np\n",
    "import tensorflow as tf\n",
    "\n",
    "tensor1 = tf.constant([[[1],[2]], [[5],[6]]])\n",
    "print(tensor1.shape)\n",
    "tensor2 = tf.constant([[[3,4]], [[3,4]]])\n",
    "print(tensor2.shape)\n",
    "mul = K.batch_dot(tensor1,tensor2)\n",
    "\n",
    "with tf.Session() as sess:\n",
    "    output = sess.run(mul)\n",
    "    print(output)"
   ]
  },
  {
   "cell_type": "code",
   "execution_count": null,
   "metadata": {
    "collapsed": true
   },
   "outputs": [],
   "source": []
  }
 ],
 "metadata": {
  "kernelspec": {
   "display_name": "Python 3",
   "language": "python",
   "name": "python3"
  },
  "language_info": {
   "codemirror_mode": {
    "name": "ipython",
    "version": 3
   },
   "file_extension": ".py",
   "mimetype": "text/x-python",
   "name": "python",
   "nbconvert_exporter": "python",
   "pygments_lexer": "ipython3",
   "version": "3.6.3"
  }
 },
 "nbformat": 4,
 "nbformat_minor": 2
}
