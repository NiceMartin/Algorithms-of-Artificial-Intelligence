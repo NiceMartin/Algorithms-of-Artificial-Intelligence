{
 "cells": [
  {
   "cell_type": "code",
   "execution_count": 7,
   "metadata": {},
   "outputs": [
    {
     "name": "stdout",
     "output_type": "stream",
     "text": [
      "[[1 1 2 2]\n",
      " [3 3 4 4]\n",
      " [5 5 6 6]]\n"
     ]
    }
   ],
   "source": [
    "from keras import backend as K\n",
    "from keras.layers import Multiply, Flatten\n",
    "import numpy as np\n",
    "import tensorflow as tf\n",
    "tensor1 = tf.constant([[[1],[1],[2],[2]],\n",
    "                       [[3],[3],[4],[4]],\n",
    "                       [[5],[5],[6],[6]],\n",
    "                      ])\n",
    "tensor2 = tf.constant([[2,2]])\n",
    "# mul = Multiply()([tensor1,tensor2])\n",
    "fla = Flatten()(tensor1)\n",
    "\n",
    "with tf.Session() as sess:\n",
    "    output = sess.run(fla)\n",
    "    print(output)"
   ]
  },
  {
   "cell_type": "code",
   "execution_count": null,
   "metadata": {
    "collapsed": true
   },
   "outputs": [],
   "source": []
  }
 ],
 "metadata": {
  "kernelspec": {
   "display_name": "Python 3",
   "language": "python",
   "name": "python3"
  },
  "language_info": {
   "codemirror_mode": {
    "name": "ipython",
    "version": 3
   },
   "file_extension": ".py",
   "mimetype": "text/x-python",
   "name": "python",
   "nbconvert_exporter": "python",
   "pygments_lexer": "ipython3",
   "version": "3.6.3"
  }
 },
 "nbformat": 4,
 "nbformat_minor": 2
}
