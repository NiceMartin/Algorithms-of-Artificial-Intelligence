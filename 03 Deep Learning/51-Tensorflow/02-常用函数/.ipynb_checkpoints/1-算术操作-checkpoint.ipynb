{
 "cells": [
  {
   "cell_type": "code",
   "execution_count": null,
   "metadata": {
    "collapsed": true
   },
   "outputs": [],
   "source": [
    "## 算术操作\n",
    "+ tf.add(x, y, name=None)\n",
    "\t+ 求和\n",
    "+ tf.sub(x, y, name=None)\n",
    "\t+ 减法\n",
    "+ tf.mul(x, y, name=None)\n",
    "\t+ 乘法\n",
    "+ tf.div(x, y, name=None)\n",
    "\t+ 除法\n",
    "+ tf.mod(x, y, name=None)\n",
    "\t+ 取模\n",
    "+ tf.abs(x, name=None)\t\n",
    "\t+ 求绝对值\n",
    "+ tf.neg(x, name=None)\t\n",
    "\t+ 取负 (y = -x).\n",
    "+ tf.sign(x, name=None)\t\n",
    "\t+ 返回符号 y = sign(x) = -1 if x < 0; 0 if x == 0; 1 if x > 0.\n",
    "+ tf.inv(x, name=None)\t\n",
    "\t+ 取反\n",
    "+ tf.square(x, name=None)\t\n",
    "\t+ 计算平方 (y = x * x = x^2).\n",
    "+ tf.round(x, name=None)\n",
    "\t+ 舍入最接近的整数\n",
    "\t```\n",
    "\t# ‘a’ is [0.9, 2.5, 2.3, -4.4]\n",
    "\ttf.round(a) ==> [ 1.0, 3.0, 2.0, -4.0 ]\n",
    "\t```\n",
    "+ tf.sqrt(x, name=None)\t\n",
    "\t+ 开根号 (y = \\sqrt{x} = x^{1/2}).\n",
    "+ tf.pow(x, y, name=None)\n",
    "\t+ 幂次方 \n",
    "\t```\n",
    "\t# tensor ‘x’ is [[2, 2], [3, 3]]\n",
    "\t# tensor ‘y’ is [[8, 16], [2, 3]]\n",
    "\ttf.pow(x, y) ==> [[256, 65536], [9, 27]]\n",
    "\t```\n",
    "+ tf.exp(x, name=None)\t\n",
    "\t+ 计算e的次方\n",
    "+ tf.log(x, name=None)\t\n",
    "\t+ 计算log，一个输入计算e的ln，两输入以第二输入为底\n",
    "+ tf.maximum(x, y, name=None)\t\n",
    "\t+ 返回最大值 (x > y ? x : y)\n",
    "+ tf.minimum(x, y, name=None)\t\n",
    "\t+ 返回最小值 (x < y ? x : y)\n",
    "+ tf.cos(x, name=None)\t\n",
    "\t+ 三角函数cosine\n",
    "+ tf.sin(x, name=None)\t\n",
    "\t+ 三角函数sine\n",
    "+ tf.tan(x, name=None)\t\n",
    "\t+ 三角函数tan\n",
    "+ tf.atan(x, name=None)\t\n",
    "\t+ 三角函数ctan"
   ]
  }
 ],
 "metadata": {
  "kernelspec": {
   "display_name": "Python 3",
   "language": "python",
   "name": "python3"
  },
  "language_info": {
   "codemirror_mode": {
    "name": "ipython",
    "version": 3
   },
   "file_extension": ".py",
   "mimetype": "text/x-python",
   "name": "python",
   "nbconvert_exporter": "python",
   "pygments_lexer": "ipython3",
   "version": "3.6.3"
  }
 },
 "nbformat": 4,
 "nbformat_minor": 2
}
