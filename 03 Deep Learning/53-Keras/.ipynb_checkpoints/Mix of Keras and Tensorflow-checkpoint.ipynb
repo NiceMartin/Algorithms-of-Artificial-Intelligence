{
 "cells": [
  {
   "cell_type": "code",
   "execution_count": null,
   "metadata": {
    "collapsed": true
   },
   "outputs": [],
   "source": [
    "# Keras Tensorflow 混用\n",
    "# https://www.cnblogs.com/flyu6/p/7978456.html"
   ]
  },
  {
   "cell_type": "code",
   "execution_count": null,
   "metadata": {
    "collapsed": true
   },
   "outputs": [],
   "source": [
    "import tensorflow as tf\n",
    "from tensorflow.examples.tutorials.mnist import input_data\n",
    "\n",
    "\n",
    "# build module\n",
    "\n",
    "img = tf.placeholder(tf.float32, shape=(None, 784))\n",
    "labels = tf.placeholder(tf.float32, shape=(None, 10))\n",
    "\n",
    "x = tf.keras.layers.Dense(128, activation='relu')(img)\n",
    "x = tf.keras.layers.Dense(128, activation='relu')(x)\n",
    "prediction = tf.keras.layers.Dense(10, activation='softmax')(x)\n",
    "\n",
    "loss = tf.reduce_mean(tf.nn.sigmoid_cross_entropy_with_logits(logits=prediction, labels=labels))\n",
    "\n",
    "train_optim = tf.train.AdamOptimizer().minimize(loss)\n",
    "\n",
    "mnist_data = input_data.read_data_sets('MNIST_data/', one_hot=True)\n",
    "\n",
    "\n",
    "with tf.Session() as sess:\n",
    "    init = tf.global_variables_initializer()\n",
    "    sess.run(init)\n",
    "\n",
    "for _ in range(1000):\n",
    "    batch_x, batch_y = mnist_data.train.next_batch(50)\n",
    "    sess.run(train_optim, feed_dict={img: batch_x, labels: batch_y})\n",
    "\n",
    "acc_pred = tf.keras.metrics.categorical_accuracy(labels, prediction)\n",
    "pred = sess.run(acc_pred, feed_dict={labels: mnist_data.test.labels, img: mnist_data.test.images})\n",
    "\n",
    "print('accuracy: %.3f' % (sum(pred)/len(mnist_data.test.labels)))"
   ]
  }
 ],
 "metadata": {
  "kernelspec": {
   "display_name": "Python 3",
   "language": "python",
   "name": "python3"
  },
  "language_info": {
   "codemirror_mode": {
    "name": "ipython",
    "version": 3
   },
   "file_extension": ".py",
   "mimetype": "text/x-python",
   "name": "python",
   "nbconvert_exporter": "python",
   "pygments_lexer": "ipython3",
   "version": "3.6.3"
  }
 },
 "nbformat": 4,
 "nbformat_minor": 2
}
