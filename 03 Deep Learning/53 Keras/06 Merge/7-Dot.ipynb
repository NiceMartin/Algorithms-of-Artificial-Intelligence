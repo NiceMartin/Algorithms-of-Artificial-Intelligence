{
 "cells": [
  {
   "cell_type": "markdown",
   "metadata": {},
   "source": [
    "# Dot\n",
    "keras.layers.Dot(axes, normalize=False)\n",
    "\n",
    "## Function\n",
    "+ 计算两个tensor中样本的张量乘积。例如，如果两个张量a和b的shape都为（batch_size, n），则输出为形如（batch_size,1）的张量，结果张量每个batch的数据都是a[i,:]和b[i,:]的矩阵（向量）点积。\n",
    "\n",
    "## 参数\n",
    "+ axes: 整数或整数的tuple，执行乘法的轴。\n",
    "+ normalize: 布尔值，是否沿执行成绩的轴做L2规范化，如果设为True，那么乘积的输出是两个样本的余弦相似性。\n",
    "+ **kwargs: 普通的Layer关键字参数\n"
   ]
  },
  {
   "cell_type": "code",
   "execution_count": 5,
   "metadata": {},
   "outputs": [
    {
     "name": "stdout",
     "output_type": "stream",
     "text": [
      "[[ 0.30000001]\n",
      " [ 0.70000005]\n",
      " [ 1.10000002]]\n"
     ]
    }
   ],
   "source": [
    "import numpy as np\n",
    "from keras import backend as K\n",
    "import tensorflow as tf\n",
    "\n",
    "a1 = tf.constant([[1,2],[3,4],[5,6]], dtype='float32')\n",
    "a2 = tf.constant([[0.1],[0.1]], dtype='float32')\n",
    "\n",
    "mul = K.dot(a1,a2)\n",
    "\n",
    "with tf.Session() as sess:\n",
    "    print(sess.run(mul))"
   ]
  },
  {
   "cell_type": "code",
   "execution_count": 6,
   "metadata": {},
   "outputs": [
    {
     "name": "stdout",
     "output_type": "stream",
     "text": [
      "[[ 0.30000001]\n",
      " [ 0.70000005]\n",
      " [ 1.10000002]]\n"
     ]
    }
   ],
   "source": [
    "import numpy as np\n",
    "from keras import backend as K\n",
    "import tensorflow as tf\n",
    "\n",
    "a1 = tf.constant([[1,2],[3,4],[5,6]], dtype='float32')  # 3*2\n",
    "a2 = tf.constant([[0.1, 0.1]], dtype='float32') # 2*1\n",
    "\n",
    "mul = K.dot(a1,tf.transpose(a2))\n",
    "\n",
    "with tf.Session() as sess:\n",
    "    print(sess.run(mul))"
   ]
  },
  {
   "cell_type": "code",
   "execution_count": null,
   "metadata": {
    "collapsed": true
   },
   "outputs": [],
   "source": []
  }
 ],
 "metadata": {
  "kernelspec": {
   "display_name": "Python 3",
   "language": "python",
   "name": "python3"
  },
  "language_info": {
   "codemirror_mode": {
    "name": "ipython",
    "version": 3
   },
   "file_extension": ".py",
   "mimetype": "text/x-python",
   "name": "python",
   "nbconvert_exporter": "python",
   "pygments_lexer": "ipython3",
   "version": "3.6.3"
  }
 },
 "nbformat": 4,
 "nbformat_minor": 2
}
