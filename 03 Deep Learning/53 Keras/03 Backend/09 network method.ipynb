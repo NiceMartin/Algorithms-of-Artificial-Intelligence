{
 "cells": [
  {
   "cell_type": "code",
   "execution_count": null,
   "metadata": {
    "collapsed": true
   },
   "outputs": [],
   "source": [
    "rnn\n",
    "rnn(step_function, inputs, initial_states, go_backwards=False, mask=None, constants=None, unroll=False, input_length=None)\n",
    "在张量的时间维上迭代\n",
    "\n",
    "参数：\n",
    "\n",
    "inputs： 形如(samples, time, ...)的时域信号的张量，阶数至少为3\n",
    "step_function：每个时间步要执行的函数 其参数：\n",
    "input：形如(samples, ...)的张量，不含时间维，代表某个时间步时一个batch的样本\n",
    "states：张量列表 其返回值：\n",
    "output：形如(samples, ...)的张量\n",
    "new_states：张量列表，与‘states’的长度相同\n",
    "initial_states：形如(samples, ...)的张量，包含了step_function状态的初始值。\n",
    "go_backwards：布尔值，若设为True，则逆向迭代序列\n",
    "mask：形如(samples, time, 1)的二值张量，需要屏蔽的数据元素上值为1\n",
    "constants：按时间步传递给函数的常数列表\n",
    "unroll：当使用TensorFlow时，RNN总是展开的。当使用Theano时，设置该值为True将展开递归网络\n",
    "input_length：使用TensorFlow时不需要此值，在使用Theano时，如果要展开递归网络，必须指定输入序列\n",
    "返回值：形如(last_output, outputs, new_states)的tuple\n",
    "\n",
    "last_output：rnn最后的输出，形如(samples, ...)\n",
    "outputs：形如(samples, time, ...)的张量，每个在[s,t]点的输出对应于样本s在t时间的输出\n",
    "new_states: 列表，其元素为形如(samples, ...)的张量，代表每个样本的最后一个状态"
   ]
  },
  {
   "cell_type": "code",
   "execution_count": null,
   "metadata": {
    "collapsed": true
   },
   "outputs": [],
   "source": [
    "relu\n",
    "relu(x, alpha=0.0, max_value=None)\n",
    "修正线性单元\n",
    "\n",
    "参数：\n",
    "\n",
    "alpha：负半区斜率\n",
    "max_value: 饱和门限\n"
   ]
  },
  {
   "cell_type": "code",
   "execution_count": null,
   "metadata": {
    "collapsed": true
   },
   "outputs": [],
   "source": [
    "elu\n",
    "elu(x, alpha=1.0)\n",
    "指数线性单元\n",
    "\n",
    "参数：\n",
    "\n",
    "x：输入张量\n",
    "alpha: 标量\n"
   ]
  },
  {
   "cell_type": "code",
   "execution_count": 3,
   "metadata": {},
   "outputs": [
    {
     "name": "stdout",
     "output_type": "stream",
     "text": [
      "[[0.09003057 0.24472848 0.66524094]\n",
      " [0.09003057 0.24472848 0.66524094]\n",
      " [0.33333334 0.33333334 0.33333334]]\n"
     ]
    }
   ],
   "source": [
    "# softmax\n",
    "# softmax(x)\n",
    "# 返回张量的softmax值\n",
    "import tensorflow as tf\n",
    "import keras.backend as K\n",
    "a = tf.constant([[1,2,3],[1,2,3],[1,1,1]], dtype='float32')\n",
    "\n",
    "with tf.Session() as sess:\n",
    "    print(sess.run(K.softmax(a)))\n"
   ]
  },
  {
   "cell_type": "code",
   "execution_count": null,
   "metadata": {
    "collapsed": true
   },
   "outputs": [],
   "source": [
    "softplus\n",
    "softplus(x)\n",
    "返回张量的softplus值\n"
   ]
  },
  {
   "cell_type": "code",
   "execution_count": null,
   "metadata": {
    "collapsed": true
   },
   "outputs": [],
   "source": [
    "softsign\n",
    "softsign(x)\n",
    "返回张量的softsign值"
   ]
  },
  {
   "cell_type": "code",
   "execution_count": null,
   "metadata": {
    "collapsed": true
   },
   "outputs": [],
   "source": [
    "categorical_crossentropy\n",
    "categorical_crossentropy(output, target, from_logits=False)\n",
    "计算输出张量和目标张量的Categorical crossentropy（类别交叉熵），目标张量与输出张量必须shape相同\n"
   ]
  },
  {
   "cell_type": "code",
   "execution_count": null,
   "metadata": {
    "collapsed": true
   },
   "outputs": [],
   "source": [
    "sparse_categorical_crossentropy\n",
    "sparse_categorical_crossentropy(output, target, from_logits=False)\n",
    "计算输出张量和目标张量的Categorical crossentropy（类别交叉熵），目标张量必须是整型张量\n"
   ]
  },
  {
   "cell_type": "code",
   "execution_count": null,
   "metadata": {
    "collapsed": true
   },
   "outputs": [],
   "source": [
    "binary_crossentropy\n",
    "binary_crossentropy(output, target, from_logits=False)\n",
    "计算输出张量和目标张量的交叉熵"
   ]
  },
  {
   "cell_type": "code",
   "execution_count": null,
   "metadata": {
    "collapsed": true
   },
   "outputs": [],
   "source": [
    "sigmoid\n",
    "sigmoid(x)\n",
    "逐元素计算sigmoid值"
   ]
  },
  {
   "cell_type": "code",
   "execution_count": null,
   "metadata": {
    "collapsed": true
   },
   "outputs": [],
   "source": [
    "hard_sigmoid\n",
    "hard_sigmoid(x)\n",
    "该函数是分段线性近似的sigmoid，计算速度更快"
   ]
  },
  {
   "cell_type": "code",
   "execution_count": null,
   "metadata": {
    "collapsed": true
   },
   "outputs": [],
   "source": [
    "tanh\n",
    "tanh(x)\n",
    "逐元素计算sigmoid值"
   ]
  },
  {
   "cell_type": "code",
   "execution_count": null,
   "metadata": {
    "collapsed": true
   },
   "outputs": [],
   "source": [
    "dropout\n",
    "dropout(x, level, seed=None)\n",
    "随机将x中一定比例的值设置为0，并放缩整个tensor\n",
    "\n",
    "参数：\n",
    "\n",
    "x：张量\n",
    "level：x中设置成0的元素比例\n",
    "seed：随机数种子\n",
    "l2_normalize\n",
    "l2_normalize(x, axis)\n",
    "在给定轴上对张量进行L2范数规范化"
   ]
  },
  {
   "cell_type": "code",
   "execution_count": null,
   "metadata": {
    "collapsed": true
   },
   "outputs": [],
   "source": [
    "l2_normalize\n",
    "keras.backend.l2_normalize(x, axis=None)\n",
    "在指定的轴使用 L2 范式 标准化一个张量。\n",
    "\n",
    "参数\n",
    "\n",
    "x: 张量或变量。\n",
    "axis: 需要执行标准化的轴。\n",
    "返回\n",
    "\n",
    "一个张量。"
   ]
  },
  {
   "cell_type": "code",
   "execution_count": null,
   "metadata": {
    "collapsed": true
   },
   "outputs": [],
   "source": [
    "in_top_k\n",
    "in_top_k(predictions, targets, k)\n",
    "判断目标是否在predictions的前k大值位置\n",
    "\n",
    "参数：\n",
    "\n",
    "predictions：预测值张量, shape为(batch_size, classes), 数据类型float32\n",
    "targets：真值张量, shape为(batch_size,),数据类型为int32或int64\n",
    "k：整数"
   ]
  },
  {
   "cell_type": "code",
   "execution_count": null,
   "metadata": {
    "collapsed": true
   },
   "outputs": [],
   "source": [
    "conv1d\n",
    "conv1d(x, kernel, strides=1, border_mode='valid', image_shape=None, filter_shape=None)\n",
    "1D卷积\n",
    "\n",
    "参数：\n",
    "\n",
    "kernel：卷积核张量\n",
    "strides：步长，整型\n",
    "border_mode：“same”，“valid”之一的字符串"
   ]
  },
  {
   "cell_type": "code",
   "execution_count": null,
   "metadata": {
    "collapsed": true
   },
   "outputs": [],
   "source": [
    "conv2d\n",
    "conv2d(x, kernel, strides=(1, 1), border_mode='valid', dim_ordering='th', image_shape=None, filter_shape=None)\n",
    "2D卷积\n",
    "\n",
    "参数：\n",
    "\n",
    "kernel：卷积核张量\n",
    "strides：步长，长为2的tuple\n",
    "border_mode：“same”，“valid”之一的字符串\n",
    "dim_ordering：“tf”和“th”之一，维度排列顺序"
   ]
  },
  {
   "cell_type": "code",
   "execution_count": null,
   "metadata": {
    "collapsed": true
   },
   "outputs": [],
   "source": [
    "deconv2d\n",
    "deconv2d(x, kernel, output_shape, strides=(1, 1), border_mode='valid', dim_ordering='th', image_shape=None, filter_shape=None)\n",
    "2D反卷积（转置卷积）\n",
    "\n",
    "参数：\n",
    "\n",
    "x：输入张量\n",
    "kernel：卷积核张量\n",
    "output_shape: 输出shape的1D的整数张量\n",
    "strides：步长，tuple类型\n",
    "border_mode：“same”或“valid”\n",
    "dim_ordering：“tf”或“th”"
   ]
  },
  {
   "cell_type": "code",
   "execution_count": null,
   "metadata": {
    "collapsed": true
   },
   "outputs": [],
   "source": [
    "conv3d\n",
    "conv3d(x, kernel, strides=(1, 1, 1), border_mode='valid', dim_ordering='th', volume_shape=None, filter_shape=None)\n",
    "3D卷积\n",
    "\n",
    "参数：\n",
    "\n",
    "x：输入张量\n",
    "kernel：卷积核张量\n",
    "strides：步长，tuple类型\n",
    "border_mode：“same”或“valid”\n",
    "dim_ordering：“tf”或“th”"
   ]
  },
  {
   "cell_type": "code",
   "execution_count": null,
   "metadata": {
    "collapsed": true
   },
   "outputs": [],
   "source": [
    "pool2d\n",
    "pool2d(x, pool_size, strides=(1, 1), border_mode='valid', dim_ordering='th', pool_mode='max')\n",
    "2D池化\n",
    "\n",
    "参数：\n",
    "\n",
    "pool_size：含有两个整数的tuple，池的大小\n",
    "strides：含有两个整数的tuple，步长\n",
    "border_mode：“same”，“valid”之一的字符串\n",
    "dim_ordering：“tf”和“th”之一，维度排列顺序\n",
    "pool_mode: “max”，“avg”之一，池化方式"
   ]
  },
  {
   "cell_type": "code",
   "execution_count": null,
   "metadata": {
    "collapsed": true
   },
   "outputs": [],
   "source": [
    "pool3d\n",
    "pool3d(x, pool_size, strides=(1, 1, 1), border_mode='valid', dim_ordering='th', pool_mode='max')\n",
    "3D池化\n",
    "\n",
    "参数：\n",
    "\n",
    "pool_size：含有3个整数的tuple，池的大小\n",
    "strides：含有3个整数的tuple，步长\n",
    "border_mode：“same”，“valid”之一的字符串\n",
    "dim_ordering：“tf”和“th”之一，维度排列顺序\n",
    "pool_mode: “max”，“avg”之一，池化方式"
   ]
  },
  {
   "cell_type": "code",
   "execution_count": null,
   "metadata": {
    "collapsed": true
   },
   "outputs": [],
   "source": [
    "local_conv1d\n",
    "keras.backend.local_conv1d(inputs, kernel, kernel_size, strides, data_format=None)\n",
    "在不共享权值的情况下，运用 1D 卷积。\n",
    "\n",
    "参数\n",
    "\n",
    "inputs: 3D 张量，尺寸为 (batch_size, steps, input_dim)\n",
    "kernel: 卷积的非共享权重, 尺寸为 (output_items, feature_dim, filters)\n",
    "kernel_size: 一个整数的元组， 指定 1D 卷积窗口的长度。\n",
    "strides: 一个整数的元组， 指定卷积步长。\n",
    "data_format: 数据格式，channels_first 或 channels_last。\n",
    "返回\n",
    "\n",
    "运用不共享权重的 1D 卷积之后的张量，尺寸为 (batch_size, output_length, filters)。\n",
    "\n",
    "异常\n",
    "\n",
    "ValueError: 如果 data_format 既不是 channels_last 也不是 channels_first。"
   ]
  },
  {
   "cell_type": "code",
   "execution_count": null,
   "metadata": {
    "collapsed": true
   },
   "outputs": [],
   "source": [
    "local_conv2d\n",
    "keras.backend.local_conv2d(inputs, kernel, kernel_size, strides, output_shape, data_format=None)\n",
    "在不共享权值的情况下，运用 2D 卷积。\n",
    "\n",
    "参数\n",
    "\n",
    "inputs: 如果 data_format='channels_first'， 则为尺寸为 (batch_size, filters, new_rows, new_cols) 的 4D 张量。 如果  data_format='channels_last'， 则为尺寸为 (batch_size, new_rows, new_cols, filters) 的 4D 张量。\n",
    "kernel: 卷积的非共享权重, 尺寸为 (output_items, feature_dim, filters)\n",
    "kernel_size: 2 个整数的元组， 指定 2D 卷积窗口的宽度和高度。\n",
    "strides: 2 个整数的元组， 指定 2D 卷积沿宽度和高度方向的步长。\n",
    "output_shape: 元组 (output_row, output_col) 。\n",
    "data_format: 数据格式，channels_first 或 channels_last。\n",
    "返回\n",
    "\n",
    "一个 4D 张量。\n",
    "\n",
    "如果 data_format='channels_first'，尺寸为 (batch_size, filters, new_rows, new_cols)。\n",
    "如果 data_format='channels_last'，尺寸为 (batch_size, new_rows, new_cols, filters)\n",
    "异常\n",
    "\n",
    "ValueError: 如果 data_format 既不是 channels_last 也不是 channels_first。"
   ]
  }
 ],
 "metadata": {
  "kernelspec": {
   "display_name": "Python 3",
   "language": "python",
   "name": "python3"
  },
  "language_info": {
   "codemirror_mode": {
    "name": "ipython",
    "version": 3
   },
   "file_extension": ".py",
   "mimetype": "text/x-python",
   "name": "python",
   "nbconvert_exporter": "python",
   "pygments_lexer": "ipython3",
   "version": "3.6.3"
  }
 },
 "nbformat": 4,
 "nbformat_minor": 2
}
