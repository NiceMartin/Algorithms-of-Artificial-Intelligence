{
 "cells": [
  {
   "cell_type": "code",
   "execution_count": null,
   "metadata": {
    "collapsed": true
   },
   "outputs": [],
   "source": []
  },
  {
   "cell_type": "code",
   "execution_count": null,
   "metadata": {
    "collapsed": true
   },
   "outputs": [],
   "source": []
  },
  {
   "cell_type": "code",
   "execution_count": null,
   "metadata": {
    "collapsed": true
   },
   "outputs": [],
   "source": []
  },
  {
   "cell_type": "code",
   "execution_count": null,
   "metadata": {
    "collapsed": true
   },
   "outputs": [],
   "source": []
  },
  {
   "cell_type": "code",
   "execution_count": null,
   "metadata": {
    "collapsed": true
   },
   "outputs": [],
   "source": []
  },
  {
   "cell_type": "code",
   "execution_count": null,
   "metadata": {
    "collapsed": true
   },
   "outputs": [],
   "source": [
    "map_fn\n",
    "map_fn(fn, elems, name=None)\n",
    "元素elems在函数fn上的映射，并返回结果\n",
    "\n",
    "参数：\n",
    "\n",
    "fn：函数\n",
    "elems：张量\n",
    "name：节点的名字\n",
    "返回值：返回一个张量，该张量的第一维度等于elems，第二维度取决于fn\n",
    "\n",
    "foldl\n",
    "foldl(fn, elems, initializer=None, name=None)\n",
    "减少elems，用fn从左到右连接它们\n",
    "\n",
    "参数：\n",
    "\n",
    "fn：函数，例如：lambda acc, x: acc + x\n",
    "elems：张量\n",
    "initializer：初始化的值(elems[0])\n",
    "name：节点名\n",
    "返回值：与initializer的类型和形状一致\n",
    "\n",
    "foldr\n",
    "foldr(fn, elems, initializer=None, name=None)\n",
    "减少elems，用fn从右到左连接它们\n",
    "\n",
    "参数：\n",
    "\n",
    "fn：函数，例如：lambda acc, x: acc + x\n",
    "elems：张量\n",
    "initializer：初始化的值（elems[-1]）\n",
    "name：节点名\n",
    "返回值：与initializer的类型和形状一致"
   ]
  },
  {
   "cell_type": "code",
   "execution_count": null,
   "metadata": {
    "collapsed": true
   },
   "outputs": [],
   "source": [
    "switch\n",
    "switch(condition, then_expression, else_expression)\n",
    "依据给定的条件‘condition’（整数或布尔值）在两个表达式之间切换，注意两个表达式都应该是具有同样shape的符号化张量表达式\n",
    "\n",
    "参数：\n",
    "\n",
    "condition：标量张量\n",
    "then_expression：TensorFlow表达式\n",
    "else_expression: TensorFlow表达式\n",
    "in_train_phase\n",
    "in_train_phase(x, alt)\n",
    "如果处于训练模式，则选择x，否则选择alt，注意alt应该与x的shape相同\n",
    "\n"
   ]
  },
  {
   "cell_type": "code",
   "execution_count": null,
   "metadata": {
    "collapsed": true
   },
   "outputs": [],
   "source": [
    "in_test_phase\n",
    "in_test_phase(x, alt)\n",
    "如果处于测试模式，则选择x，否则选择alt，注意alt应该与x的shape相同"
   ]
  },
  {
   "cell_type": "code",
   "execution_count": null,
   "metadata": {
    "collapsed": true
   },
   "outputs": [],
   "source": [
    "in_train_phase\n",
    "keras.backend.in_train_phase(x, alt, training=None)\n",
    "在训练阶段选择 x，其他阶段选择 alt。\n",
    "\n",
    "请注意 alt 应该与 x 尺寸相同。\n",
    "\n",
    "参数\n",
    "\n",
    "x: 在训练阶段需要返回的 x (张量或返回张量的可调用函数)。\n",
    "alt: 在其他阶段需要返回的 alt (张量或返回张量的可调用函数)。\n",
    "training: 可选的标量张量 (或 Python 布尔值，或者 Python 整数)， 以指定学习阶段。\n",
    "返回\n",
    "\n",
    "基于 training 标志，要么返回 x，要么返回 alt。 training 标志默认为 K.learning_phase()。"
   ]
  }
 ],
 "metadata": {
  "kernelspec": {
   "display_name": "Python 3",
   "language": "python",
   "name": "python3"
  },
  "language_info": {
   "codemirror_mode": {
    "name": "ipython",
    "version": 3
   },
   "file_extension": ".py",
   "mimetype": "text/x-python",
   "name": "python",
   "nbconvert_exporter": "python",
   "pygments_lexer": "ipython3",
   "version": "3.6.3"
  }
 },
 "nbformat": 4,
 "nbformat_minor": 2
}
