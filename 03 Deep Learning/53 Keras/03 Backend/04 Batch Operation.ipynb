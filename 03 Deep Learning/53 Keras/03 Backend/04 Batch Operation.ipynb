{
 "cells": [
  {
   "cell_type": "code",
   "execution_count": null,
   "metadata": {
    "collapsed": true
   },
   "outputs": [],
   "source": [
    "# normalize_batch_in_training\n",
    "# normalize_batch_in_training(x, gamma, beta, reduction_axes, epsilon=0.0001)\n",
    "# 对一个batch数据先计算其均值和方差，然后再进行batch_normalization"
   ]
  },
  {
   "cell_type": "code",
   "execution_count": null,
   "metadata": {
    "collapsed": true
   },
   "outputs": [],
   "source": [
    "# batch_normalization\n",
    "# batch_normalization(x, mean, var, beta, gamma, epsilon=0.0001)\n",
    "# 对一个batch的数据进行batch_normalization，计算公式为： output = (x-mean)/(sqrt(var)+epsilon)*gamma+beta"
   ]
  }
 ],
 "metadata": {
  "kernelspec": {
   "display_name": "Python 3",
   "language": "python",
   "name": "python3"
  },
  "language_info": {
   "codemirror_mode": {
    "name": "ipython",
    "version": 3
   },
   "file_extension": ".py",
   "mimetype": "text/x-python",
   "name": "python",
   "nbconvert_exporter": "python",
   "pygments_lexer": "ipython3",
   "version": "3.6.3"
  }
 },
 "nbformat": 4,
 "nbformat_minor": 2
}
