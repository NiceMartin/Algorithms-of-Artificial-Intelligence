{
 "cells": [
  {
   "cell_type": "code",
   "execution_count": null,
   "metadata": {
    "collapsed": true
   },
   "outputs": [],
   "source": [
    "# update 张量整体更新\n",
    "# update_add 通过增加 increment 来更新 x 的值\n",
    "# update_sub 通过减 decrement 来更新 x 的值\n",
    "# moving_average_update 计算变量的移动平均值"
   ]
  },
  {
   "cell_type": "code",
   "execution_count": null,
   "metadata": {
    "collapsed": true
   },
   "outputs": [],
   "source": [
    "# dot\n",
    "# 求两个张量的乘积。当试图计算两个N阶张量的乘积时"
   ]
  },
  {
   "cell_type": "code",
   "execution_count": 2,
   "metadata": {},
   "outputs": [
    {
     "name": "stdout",
     "output_type": "stream",
     "text": [
      "Tensor(\"MatMul:0\", shape=(2, 4), dtype=float32)\n",
      "Tensor(\"Reshape_2:0\", shape=(32, 28, 4), dtype=float32)\n"
     ]
    }
   ],
   "source": [
    "import keras.backend as K\n",
    "# 张量之间的点积\n",
    "x = K.placeholder(shape=(2, 3))\n",
    "y = K.placeholder(shape=(3, 4))\n",
    "xy = K.dot(x, y)\n",
    "print(xy)\n",
    "\n",
    "# 张量之间的点积\n",
    "x = K.placeholder(shape=(32, 28, 3))\n",
    "y = K.placeholder(shape=(3, 4))\n",
    "xy = K.dot(x, y)\n",
    "print(xy)\n"
   ]
  },
  {
   "cell_type": "code",
   "execution_count": null,
   "metadata": {
    "collapsed": true
   },
   "outputs": [],
   "source": [
    "# batch_dot(x, y, axes=None)\n",
    "# 按批进行张量乘法，该函数用于计算x和y的点积，其中x和y都是成batch出现的数据"
   ]
  },
  {
   "cell_type": "code",
   "execution_count": 3,
   "metadata": {},
   "outputs": [
    {
     "name": "stdout",
     "output_type": "stream",
     "text": [
      "(32, 1, 30)\n"
     ]
    }
   ],
   "source": [
    "x_batch = K.ones(shape=(32, 20, 1))\n",
    "y_batch = K.ones(shape=(32, 30, 20))\n",
    "xy_batch_dot = K.batch_dot(x_batch, y_batch, axes=[1, 2])\n",
    "print(K.int_shape(xy_batch_dot))"
   ]
  },
  {
   "cell_type": "code",
   "execution_count": null,
   "metadata": {
    "collapsed": true
   },
   "outputs": [],
   "source": [
    "# gather\n",
    "# keras.backend.gather(reference, indices)\n",
    "# 在张量 reference 中检索索引 indices 的元素\n",
    "# 在张量中找向量\n",
    "# 参数\n",
    "# reference: 一个张量\n",
    "# indices: 索引的整数张量\n",
    "# 返回\n",
    "# 与 reference 类型相同的张量"
   ]
  },
  {
   "cell_type": "code",
   "execution_count": null,
   "metadata": {
    "collapsed": true
   },
   "outputs": [],
   "source": [
    "# max\n",
    "# 求张量中的最大值\n",
    "    # keras.backend.max(x, axis=None, keepdims=False)\n",
    "    # 张量中的最大值。\n",
    "\n",
    "    # 参数\n",
    "\n",
    "    # x: 张量或变量。\n",
    "    # axis: 一个整数，需要在哪个轴寻找最大值。\n",
    "    # keepdims: 布尔值，是否保留原尺寸。 如果 keepdims 为 False，则张量的秩减 1。 如果 keepdims 为 True，缩小的维度保留为长度 1。\n",
    "# min\n",
    "# 求张量中的最小值\n",
    "# sum\n",
    "# 在给定轴上计算张量中元素之和\n",
    "# prod\n",
    "# 在给定轴上计算张量中元素之积\n",
    "# cumsum\n",
    "# 在给定轴上求张量的累积和\n",
    "# cumprod\n",
    "# 在给定轴上求张量的累积积\n",
    "# var\n",
    "# 在给定轴上计算张量方差\n",
    "# std\n",
    "# 在给定轴上求张量元素之标准差\n",
    "# mean\n",
    "# 在给定轴上求张量元素之均值\n",
    "# any\n",
    "# 按位或，返回数据类型为uint8的张量（元素为0或1）\n",
    "# all\n",
    "# 按位与，返回类型为uint8de tensor"
   ]
  },
  {
   "cell_type": "code",
   "execution_count": 9,
   "metadata": {},
   "outputs": [
    {
     "name": "stdout",
     "output_type": "stream",
     "text": [
      "[[2. 3. 4.]\n",
      " [5. 6. 7.]]\n",
      "7.0\n",
      "[5. 6. 7.]\n",
      "[4. 7.]\n"
     ]
    }
   ],
   "source": [
    "import keras.backend as K\n",
    "a = K.ones((3,4))\n",
    "b = K.constant([[2,3,4],[5,6,7]])\n",
    "print(K.eval(b))\n",
    "# p\n",
    "print(K.eval(K.max(b)))\n",
    "print(K.eval(K.max(b, axis=0)))\n",
    "print(K.eval(K.max(b, axis=1)))"
   ]
  },
  {
   "cell_type": "code",
   "execution_count": null,
   "metadata": {
    "collapsed": true
   },
   "outputs": [],
   "source": [
    "# argmax 返回指定轴的最大值的索引\n",
    "# argmin 返回指定轴的最小值的索引\n",
    "# square 逐元素平方\n",
    "# abs 逐元素绝对值\n",
    "# sqrt 逐元素开方\n",
    "# exp exp(x) 逐元素求自然指数\n",
    "# log log(x) 逐元素求自然对数\n",
    "# logsumexp logsumexp(x, axis=None, keepdims=False)\n",
    "# 在给定轴上计算log(sum(exp()))，该函数在数值稳定性上超过直接计算log(sum(exp()))，可以避免由exp和log导致的上溢和下溢\n",
    "# round round(x) 逐元素四舍五入\n",
    "# sign sign(x) 逐元素求元素的符号（+1或-1）\n",
    "# pow pow(x, a) 逐元素求x的a次方\n",
    "# clip clip(x, min_value, max_value) 逐元素clip（将超出指定范围的数强制变为边界值）\n",
    "# equal equal(x, y) 逐元素判相等关系，返回布尔张量\n",
    "# not_equal not_equal(x, y) 逐元素判不等关系，返回布尔张量\n",
    "# greater greater(x,y) 逐元素判断x>y关系，返回布尔张量\n",
    "# greater_equal greater_equal(x,y) 逐元素判断x>=y关系，返回布尔张量\n",
    "# lesser lesser(x,y) 逐元素判断x<y关系，返回布尔张量\n",
    "# lesser_equal lesser_equal(x,y) 逐元素判断x<=y关系，返回布尔张量\n",
    "# maximum maximum(x, y) 逐元素取两个张量的最大值\n",
    "# minimum minimum(x, y) 逐元素取两个张量的最小值\n",
    "# sin sin(x) 逐元素求正弦值\n",
    "# cos cos(x) 逐元素求余弦值"
   ]
  }
 ],
 "metadata": {
  "kernelspec": {
   "display_name": "Python 3",
   "language": "python",
   "name": "python3"
  },
  "language_info": {
   "codemirror_mode": {
    "name": "ipython",
    "version": 3
   },
   "file_extension": ".py",
   "mimetype": "text/x-python",
   "name": "python",
   "nbconvert_exporter": "python",
   "pygments_lexer": "ipython3",
   "version": "3.6.3"
  }
 },
 "nbformat": 4,
 "nbformat_minor": 2
}
