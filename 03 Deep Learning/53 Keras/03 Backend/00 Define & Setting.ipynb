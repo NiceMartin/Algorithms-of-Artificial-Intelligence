{
 "cells": [
  {
   "cell_type": "markdown",
   "metadata": {},
   "source": [
    "Keras 是一个模型级库，为开发深度学习模型提供了高层次的构建模块。它不处理诸如张量乘积和卷积等低级操作。相反，它依赖于一个专门的、优化的张量操作库来完成这个操作，它可以作为 Keras 的「后端引擎」。相比单独地选择一个张量库，而将 Keras 的实现与该库相关联，Keras 以模块方式处理这个问题，并且可以将几个不同的后端引擎无缝嵌入到 Keras 中。\n",
    "\n",
    "目前，Keras 有三个后端实现可用: TensorFlow 后端，Theano 后端，CNTK 后端。\n",
    "\n",
    "TensorFlow 是由 Google 开发的一个开源符号级张量操作框架。\n",
    "Theano 是由蒙特利尔大学的 LISA Lab 开发的一个开源符号级张量操作框架。\n",
    "CNTK 是由微软开发的一个深度学习开源工具包。\n",
    "将来，我们可能会添加更多后端选项。"
   ]
  },
  {
   "cell_type": "markdown",
   "metadata": {},
   "source": [
    "上段文字意思是:如果以tensorflow为后端, 那基础的tf操作就与keras backend 结合起来了, K.xxx 封装的操作 由 tensorflow 实现"
   ]
  },
  {
   "cell_type": "markdown",
   "metadata": {},
   "source": [
    "keras backend 的代码不能直接由 写在 Sequential Model 和 Functional Model中, 需要Lambda 层封装"
   ]
  },
  {
   "cell_type": "markdown",
   "metadata": {},
   "source": [
    "+ keras.json 详细配置"
   ]
  },
  {
   "cell_type": "code",
   "execution_count": null,
   "metadata": {
    "collapsed": true
   },
   "outputs": [],
   "source": [
    "{\n",
    "    \"image_data_format\": \"channels_last\",\n",
    "    \"epsilon\": 1e-07,\n",
    "    \"floatx\": \"float32\",\n",
    "    \"backend\": \"tensorflow\"\n",
    "}"
   ]
  },
  {
   "cell_type": "code",
   "execution_count": null,
   "metadata": {
    "collapsed": true
   },
   "outputs": [],
   "source": [
    "您可以通过编辑 $ HOME/.keras/keras.json 来更改这些设置。\n",
    "\n",
    "image_data_format: 字符串，\"channels_last\" 或者 \"channels_first\"。它指定了 Keras 将遵循的数据格式约定。(keras.backend.image_data_format() 返回它。)  - 对于 2D 数据 (例如图像)，\"channels_last\" 假定为  (rows, cols, channels)，而 \"channels_first\" 假定为 (channels, rows, cols)。  - 对于 3D 数据，  \"channels_last\" 假定为 (conv_dim1, conv_dim2, conv_dim3, channels)，而 \"channels_first\" 假定为  (channels, conv_dim1, conv_dim2, conv_dim3)。\n",
    "epsilon: 浮点数，用于避免在某些操作中被零除的数字模糊常量。\n",
    "floatx: 字符串，\"float16\", \"float32\", 或 \"float64\"。默认浮点精度。\n",
    "backend: 字符串， \"tensorflow\", \"theano\", 或 \"cntk\"。"
   ]
  }
 ],
 "metadata": {
  "kernelspec": {
   "display_name": "Python 3",
   "language": "python",
   "name": "python3"
  },
  "language_info": {
   "codemirror_mode": {
    "name": "ipython",
    "version": 3
   },
   "file_extension": ".py",
   "mimetype": "text/x-python",
   "name": "python",
   "nbconvert_exporter": "python",
   "pygments_lexer": "ipython3",
   "version": "3.6.3"
  }
 },
 "nbformat": 4,
 "nbformat_minor": 2
}
