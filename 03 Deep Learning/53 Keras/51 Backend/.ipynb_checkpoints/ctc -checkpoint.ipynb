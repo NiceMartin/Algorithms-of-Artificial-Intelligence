{
 "cells": [
  {
   "cell_type": "code",
   "execution_count": null,
   "metadata": {
    "collapsed": true
   },
   "outputs": [],
   "source": [
    "ctc_label_dense_to_sparse\n",
    "ctc_label_dense_to_sparse(labels, label_lengths)\n",
    "将ctc标签从稠密形式转换为稀疏形式\n",
    "\n",
    "ctc_batch_cost\n",
    "ctc_batch_cost(y_true, y_pred, input_length, label_length)\n",
    "在batch上运行CTC损失算法\n",
    "\n",
    "参数：\n",
    "\n",
    "y_true：形如(samples，max_tring_length)的张量，包含标签的真值\n",
    "y_pred：形如(samples，time_steps，num_categories)的张量，包含预测值或输出的softmax值\n",
    "input_length：形如(samples，1)的张量，包含y_pred中每个batch的序列长\n",
    "label_length：形如(samples，1)的张量，包含y_true中每个batch的序列长\n",
    "返回值：形如(samoles，1)的tensor，包含了每个元素的CTC损失\n",
    "\n",
    "ctc_decode\n",
    "ctc_decode(y_pred, input_length, greedy=True, beam_width=None, dict_seq_lens=None, dict_values=None)\n",
    "使用贪婪算法或带约束的字典搜索算法解码softmax的输出\n",
    "\n",
    "参数：\n",
    "\n",
    "y_pred：形如(samples，time_steps，num_categories)的张量，包含预测值或输出的softmax值\n",
    "input_length：形如(samples，1)的张量，包含y_pred中每个batch的序列长\n",
    "greedy：设置为True使用贪婪算法，速度快\n",
    "dict_seq_lens：dic_values列表中各元素的长度\n",
    "dict_values：列表的列表，代表字典\n",
    "返回值：形如(samples，time_steps，num_catgories)的张量，包含了路径可能性（以softmax概率的形式）。注意仍然需要一个用来取出argmax和处理空白标签的函数\n",
    "\n"
   ]
  }
 ],
 "metadata": {
  "kernelspec": {
   "display_name": "Python 3",
   "language": "python",
   "name": "python3"
  },
  "language_info": {
   "codemirror_mode": {
    "name": "ipython",
    "version": 3
   },
   "file_extension": ".py",
   "mimetype": "text/x-python",
   "name": "python",
   "nbconvert_exporter": "python",
   "pygments_lexer": "ipython3",
   "version": "3.6.3"
  }
 },
 "nbformat": 4,
 "nbformat_minor": 2
}
