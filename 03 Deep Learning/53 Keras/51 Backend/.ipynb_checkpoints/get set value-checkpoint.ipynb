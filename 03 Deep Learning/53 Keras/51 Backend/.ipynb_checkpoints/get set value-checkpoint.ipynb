{
 "cells": [
  {
   "cell_type": "code",
   "execution_count": null,
   "metadata": {
    "collapsed": true
   },
   "outputs": [],
   "source": [
    "get_value\n",
    "get_value(x)\n",
    "以Numpy array的形式返回张量的值\n",
    "\n",
    "batch_get_value\n",
    "batch_get_value(x)\n",
    "以Numpy array list的形式返回多个张量的值\n",
    "\n",
    "set_value\n",
    "set_value(x, value)\n",
    "从numpy array将值载入张量中\n",
    "\n",
    "batch_set_value\n",
    "batch_set_value(tuples)\n",
    "将多个值载入多个张量变量中\n",
    "\n",
    "参数：\n",
    "\n",
    "tuples: 列表，其中的元素形如(tensor, value)。value是要载入的Numpy array数据\n",
    "print_tensor\n",
    "print_tensor(x, message='')\n",
    "在求值时打印张量的信息，并返回原张量"
   ]
  }
 ],
 "metadata": {
  "kernelspec": {
   "display_name": "Python 3",
   "language": "python",
   "name": "python3"
  },
  "language_info": {
   "codemirror_mode": {
    "name": "ipython",
    "version": 3
   },
   "file_extension": ".py",
   "mimetype": "text/x-python",
   "name": "python",
   "nbconvert_exporter": "python",
   "pygments_lexer": "ipython3",
   "version": "3.6.3"
  }
 },
 "nbformat": 4,
 "nbformat_minor": 2
}
