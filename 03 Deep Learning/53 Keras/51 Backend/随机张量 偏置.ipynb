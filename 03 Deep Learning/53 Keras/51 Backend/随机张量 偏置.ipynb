{
 "cells": [
  {
   "cell_type": "code",
   "execution_count": null,
   "metadata": {
    "collapsed": true
   },
   "outputs": [],
   "source": [
    "bias_add\n",
    "bias_add(x, bias, data_format=None)\n",
    "为张量增加一个偏置项\n",
    "\n",
    "random_normal\n",
    "random_normal(shape, mean=0.0, stddev=1.0, dtype=None, seed=None)\n",
    "返回具有正态分布值的张量，mean和stddev为均值和标准差\n",
    "\n",
    "random_uniform\n",
    "random_uniform(shape, minval=0.0, maxval=1.0, dtype=None, seed=None)\n",
    "返回具有均匀分布值的张量，minval和maxval是均匀分布的下上界\n",
    "\n",
    "random_binomial\n",
    "random_binomial(shape, p=0.0, dtype=None, seed=None)\n",
    "返回具有二项分布值的张量，p是二项分布参数\n",
    "\n",
    "truncated_normall\n",
    "truncated_normal(shape, mean=0.0, stddev=1.0, dtype=None, seed=None)\n",
    "返回具有截尾正态分布值的张量，在距离均值两个标准差之外的数据将会被截断并重新生成"
   ]
  }
 ],
 "metadata": {
  "kernelspec": {
   "display_name": "Python 3",
   "language": "python",
   "name": "python3"
  },
  "language_info": {
   "codemirror_mode": {
    "name": "ipython",
    "version": 3
   },
   "file_extension": ".py",
   "mimetype": "text/x-python",
   "name": "python",
   "nbconvert_exporter": "python",
   "pygments_lexer": "ipython3",
   "version": "3.6.3"
  }
 },
 "nbformat": 4,
 "nbformat_minor": 2
}
