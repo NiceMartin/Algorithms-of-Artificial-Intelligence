{
 "cells": [
  {
   "cell_type": "code",
   "execution_count": null,
   "metadata": {
    "collapsed": true
   },
   "outputs": [],
   "source": [
    "dot\n",
    "求两个张量的乘积。当试图计算两个N阶张量的乘积时\n",
    "batch_dot(x, y, axes=None)\n",
    "按批进行张量乘法，该函数用于计算x和y的点积，其中x和y都是成batch出现的数据"
   ]
  },
  {
   "cell_type": "code",
   "execution_count": null,
   "metadata": {
    "collapsed": true
   },
   "outputs": [],
   "source": [
    "max\n",
    "求张量中的最大值\n",
    "min\n",
    "求张量中的最小值\n",
    "sum\n",
    "在给定轴上计算张量中元素之和\n",
    "prod\n",
    "在给定轴上计算张量中元素之积\n",
    "cumsum\n",
    "在给定轴上求张量的累积和\n",
    "cumprod\n",
    "在给定轴上求张量的累积积\n",
    "var\n",
    "在给定轴上计算张量方差\n",
    "std\n",
    "在给定轴上求张量元素之标准差\n",
    "mean\n",
    "在给定轴上求张量元素之均值\n",
    "any\n",
    "按位或，返回数据类型为uint8的张量（元素为0或1）\n",
    "all\n",
    "按位与，返回类型为uint8de tensor"
   ]
  },
  {
   "cell_type": "code",
   "execution_count": null,
   "metadata": {
    "collapsed": true
   },
   "outputs": [],
   "source": [
    "argmax\n",
    "argmin\n",
    "square\n",
    "逐元素平方\n",
    "abs\n",
    "逐元素绝对值\n",
    "sqrt\n",
    "逐元素开方\n",
    "exp\n",
    "exp(x)\n",
    "逐元素求自然指数\n",
    "\n",
    "log\n",
    "log(x)\n",
    "逐元素求自然对数\n",
    "\n",
    "logsumexp\n",
    "logsumexp(x, axis=None, keepdims=False)\n",
    "在给定轴上计算log(sum(exp()))，该函数在数值稳定性上超过直接计算log(sum(exp()))，可以避免由exp和log导致的上溢和下溢\n",
    "\n",
    "round\n",
    "round(x)\n",
    "逐元素四舍五入\n",
    "\n",
    "sign\n",
    "sign(x)\n",
    "逐元素求元素的符号（+1或-1）\n",
    "\n",
    "pow\n",
    "pow(x, a)\n",
    "逐元素求x的a次方\n",
    "\n",
    "clip\n",
    "clip(x, min_value, max_value)\n",
    "逐元素clip（将超出指定范围的数强制变为边界值）\n",
    "\n",
    "equal\n",
    "equal(x, y)\n",
    "逐元素判相等关系，返回布尔张量\n",
    "\n",
    "not_equal\n",
    "not_equal(x, y)\n",
    "逐元素判不等关系，返回布尔张量\n",
    "\n",
    "greater\n",
    "greater(x,y)\n",
    "逐元素判断x>y关系，返回布尔张量\n",
    "\n",
    "greater_equal\n",
    "greater_equal(x,y)\n",
    "逐元素判断x>=y关系，返回布尔张量\n",
    "\n",
    "lesser\n",
    "lesser(x,y)\n",
    "逐元素判断x<y关系，返回布尔张量\n",
    "\n",
    "lesser_equal\n",
    "lesser_equal(x,y)\n",
    "逐元素判断x<=y关系，返回布尔张量\n",
    "\n",
    "maximum\n",
    "maximum(x, y)\n",
    "逐元素取两个张量的最大值\n",
    "\n",
    "minimum\n",
    "minimum(x, y)\n",
    "逐元素取两个张量的最小值\n",
    "\n",
    "sin\n",
    "sin(x)\n",
    "逐元素求正弦值\n",
    "\n",
    "cos\n",
    "cos(x)\n",
    "逐元素求余弦值"
   ]
  }
 ],
 "metadata": {
  "kernelspec": {
   "display_name": "Python 3",
   "language": "python",
   "name": "python3"
  },
  "language_info": {
   "codemirror_mode": {
    "name": "ipython",
    "version": 3
   },
   "file_extension": ".py",
   "mimetype": "text/x-python",
   "name": "python",
   "nbconvert_exporter": "python",
   "pygments_lexer": "ipython3",
   "version": "3.6.3"
  }
 },
 "nbformat": 4,
 "nbformat_minor": 2
}
