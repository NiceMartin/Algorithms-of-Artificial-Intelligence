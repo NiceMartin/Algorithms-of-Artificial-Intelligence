{
 "cells": [
  {
   "cell_type": "code",
   "execution_count": null,
   "metadata": {
    "collapsed": true
   },
   "outputs": [],
   "source": [
    "map_fn\n",
    "map_fn(fn, elems, name=None)\n",
    "元素elems在函数fn上的映射，并返回结果\n",
    "\n",
    "参数：\n",
    "\n",
    "fn：函数\n",
    "elems：张量\n",
    "name：节点的名字\n",
    "返回值：返回一个张量，该张量的第一维度等于elems，第二维度取决于fn\n",
    "\n",
    "foldl\n",
    "foldl(fn, elems, initializer=None, name=None)\n",
    "减少elems，用fn从左到右连接它们\n",
    "\n",
    "参数：\n",
    "\n",
    "fn：函数，例如：lambda acc, x: acc + x\n",
    "elems：张量\n",
    "initializer：初始化的值(elems[0])\n",
    "name：节点名\n",
    "返回值：与initializer的类型和形状一致\n",
    "\n",
    "foldr\n",
    "foldr(fn, elems, initializer=None, name=None)\n",
    "减少elems，用fn从右到左连接它们\n",
    "\n",
    "参数：\n",
    "\n",
    "fn：函数，例如：lambda acc, x: acc + x\n",
    "elems：张量\n",
    "initializer：初始化的值（elems[-1]）\n",
    "name：节点名\n",
    "返回值：与initializer的类型和形状一致"
   ]
  }
 ],
 "metadata": {
  "kernelspec": {
   "display_name": "Python 3",
   "language": "python",
   "name": "python3"
  },
  "language_info": {
   "codemirror_mode": {
    "name": "ipython",
    "version": 3
   },
   "file_extension": ".py",
   "mimetype": "text/x-python",
   "name": "python",
   "nbconvert_exporter": "python",
   "pygments_lexer": "ipython3",
   "version": "3.6.3"
  }
 },
 "nbformat": 4,
 "nbformat_minor": 2
}
