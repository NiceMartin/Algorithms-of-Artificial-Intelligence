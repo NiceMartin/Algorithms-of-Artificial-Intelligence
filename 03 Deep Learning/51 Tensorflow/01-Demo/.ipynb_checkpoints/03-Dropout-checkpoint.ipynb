{
 "cells": [
  {
   "cell_type": "code",
   "execution_count": 2,
   "metadata": {},
   "outputs": [
    {
     "name": "stderr",
     "output_type": "stream",
     "text": [
      "/opt/anaconda3/lib/python3.6/importlib/_bootstrap.py:219: RuntimeWarning: compiletime version 3.5 of module 'tensorflow.python.framework.fast_tensor_util' does not match runtime version 3.6\n",
      "  return f(*args, **kwds)\n",
      "/opt/anaconda3/lib/python3.6/site-packages/h5py/__init__.py:34: FutureWarning: Conversion of the second argument of issubdtype from `float` to `np.floating` is deprecated. In future, it will be treated as `np.float64 == np.dtype(float).type`.\n",
      "  from ._conv import register_converters as _register_converters\n"
     ]
    }
   ],
   "source": [
    "import tensorflow as tf\n",
    "from tensorflow.examples.tutorials.mnist import input_data"
   ]
  },
  {
   "cell_type": "code",
   "execution_count": 3,
   "metadata": {},
   "outputs": [
    {
     "name": "stdout",
     "output_type": "stream",
     "text": [
      "Extracting MNIST_data/train-images-idx3-ubyte.gz\n",
      "Extracting MNIST_data/train-labels-idx1-ubyte.gz\n",
      "Extracting MNIST_data/t10k-images-idx3-ubyte.gz\n",
      "Extracting MNIST_data/t10k-labels-idx1-ubyte.gz\n"
     ]
    }
   ],
   "source": [
    "# 载入数据\n",
    "mnist = input_data.read_data_sets(\"MNIST_data\", one_hot=True) # 下载数据"
   ]
  },
  {
   "cell_type": "code",
   "execution_count": 4,
   "metadata": {},
   "outputs": [
    {
     "name": "stdout",
     "output_type": "stream",
     "text": [
      "Iter0 Training Accuracy0.90018183 Testing Accuracy0.935\n",
      "Iter1 Training Accuracy0.9193818 Testing Accuracy0.9467\n",
      "Iter2 Training Accuracy0.9247091 Testing Accuracy0.9562\n",
      "Iter3 Training Accuracy0.9306727 Testing Accuracy0.9632\n",
      "Iter4 Training Accuracy0.9328727 Testing Accuracy0.9633\n",
      "Iter5 Training Accuracy0.9334 Testing Accuracy0.9673\n",
      "Iter6 Training Accuracy0.9374545 Testing Accuracy0.9689\n",
      "Iter7 Training Accuracy0.93854547 Testing Accuracy0.9691\n",
      "Iter8 Training Accuracy0.93921816 Testing Accuracy0.9703\n",
      "Iter9 Training Accuracy0.93954545 Testing Accuracy0.9708\n",
      "Iter10 Training Accuracy0.9414 Testing Accuracy0.9727\n",
      "Iter11 Training Accuracy0.9389455 Testing Accuracy0.9741\n",
      "Iter12 Training Accuracy0.9422182 Testing Accuracy0.9742\n",
      "Iter13 Training Accuracy0.9416909 Testing Accuracy0.9738\n",
      "Iter14 Training Accuracy0.9410909 Testing Accuracy0.9747\n",
      "Iter15 Training Accuracy0.94241816 Testing Accuracy0.9754\n",
      "Iter16 Training Accuracy0.93954545 Testing Accuracy0.9755\n",
      "Iter17 Training Accuracy0.9439273 Testing Accuracy0.9753\n",
      "Iter18 Training Accuracy0.9407455 Testing Accuracy0.9764\n",
      "Iter19 Training Accuracy0.94116366 Testing Accuracy0.9771\n",
      "Iter20 Training Accuracy0.9423636 Testing Accuracy0.9774\n",
      "Iter21 Training Accuracy0.94054544 Testing Accuracy0.9768\n",
      "Iter22 Training Accuracy0.9393091 Testing Accuracy0.9769\n",
      "Iter23 Training Accuracy0.93881816 Testing Accuracy0.9776\n",
      "Iter24 Training Accuracy0.9379454 Testing Accuracy0.977\n",
      "Iter25 Training Accuracy0.9416 Testing Accuracy0.9773\n",
      "Iter26 Training Accuracy0.94167274 Testing Accuracy0.9778\n",
      "Iter27 Training Accuracy0.9408 Testing Accuracy0.9776\n",
      "Iter28 Training Accuracy0.9421273 Testing Accuracy0.9773\n",
      "Iter29 Training Accuracy0.9416364 Testing Accuracy0.9782\n",
      "Iter30 Training Accuracy0.9425273 Testing Accuracy0.9775\n"
     ]
    }
   ],
   "source": [
    "# 批次大小\n",
    "batch_size = 100\n",
    "number_neural = 400\n",
    "# 计算一共有多少个批次\n",
    "n_batch = mnist.train.num_examples // batch_size # // 整除\n",
    "\n",
    "# 定义两个 placeholder\n",
    "x = tf.placeholder(tf.float32, [None, 784]) # None 表示任意维度\n",
    "y = tf.placeholder(tf.float32, [None, 10])\n",
    "keep_prob = tf.placeholder(tf.float32)\n",
    "\n",
    "\n",
    "# 创建一个简单的神经网络\n",
    "W_1 = tf.Variable(tf.truncated_normal([784,number_neural], stddev=0.1)) # 截断的正太分布\n",
    "b_1 = tf.Variable(tf.zeros([number_neural])+0.1) # 初始化偏置值为0.1\n",
    "L_1 = tf.nn.tanh(tf.matmul(x, W_1) + b_1)\n",
    "L_1_dropout = tf.nn.dropout(L_1, keep_prob) # keep_prob = 0.8 80% 的神经元工作\n",
    "\n",
    "W_2 = tf.Variable(tf.truncated_normal([number_neural,number_neural], stddev=0.1)) # 截断的正太分布\n",
    "b_2 = tf.Variable(tf.zeros([number_neural])+0.1) # 初始化偏置值为0.1\n",
    "L_2 = tf.nn.tanh(tf.matmul(L_1_dropout, W_2) + b_2)\n",
    "L_2_dropout = tf.nn.dropout(L_2, keep_prob) # keep_prob = 0.8 80% 的神经元工作\n",
    "\n",
    "W_3 = tf.Variable(tf.truncated_normal([number_neural,number_neural], stddev=0.1)) # 截断的正太分布\n",
    "b_3 = tf.Variable(tf.zeros([number_neural])+0.1) # 初始化偏置值为0.1\n",
    "L_3 = tf.nn.tanh(tf.matmul(L_2_dropout, W_3) + b_3)\n",
    "L_3_dropout = tf.nn.dropout(L_3, keep_prob) # keep_prob = 0.8 80% 的神经元工作\n",
    "\n",
    "# 输出层\n",
    "W_4 = tf.Variable(tf.truncated_normal([number_neural,10], stddev=0.1)) # 截断的正太分布\n",
    "b_4 = tf.Variable(tf.zeros([10])+0.1) # 初始化偏置值为0.1\n",
    "\n",
    "predict = tf.nn.softmax(tf.matmul(L_3_dropout,W_4)+b_4)\n",
    "\n",
    "# softmax\n",
    "loss = tf.reduce_mean(tf.nn.softmax_cross_entropy_with_logits(labels=y, logits=predict))\n",
    "train_step = tf.train.GradientDescentOptimizer(0.2).minimize(loss)\n",
    "\n",
    "# 初始化变量\n",
    "init = tf.global_variables_initializer()\n",
    "\n",
    "# 结果存放在一个bool 型列表中\n",
    "correct_prediction = tf.equal(tf.argmax(y,1), tf.argmax(predict,1)) # tf.equal \n",
    "# 求准确率\n",
    "arruracy = tf.reduce_mean(tf.cast(correct_prediction, tf.float32))\n",
    "\n",
    "with tf.Session() as sess:\n",
    "    sess.run(init)\n",
    "    for epoch in range(31):\n",
    "        for batch in range(n_batch):\n",
    "            batch_xs, batch_ys = mnist.train.next_batch(batch_size=batch_size)\n",
    "            sess.run(train_step, feed_dict={x:batch_xs, y:batch_ys, keep_prob:1.0})\n",
    "        \n",
    "        train_acc = sess.run(arruracy, feed_dict={x:mnist.train.images, y:mnist.train.labels, keep_prob:0.8})# 70% 工作\n",
    "        test_acc = sess.run(arruracy, feed_dict={x:mnist.test.images, y:mnist.test.labels, keep_prob:1.0})# 测试的时候所有的神经元都工作\n",
    "        print(\"Iter\" + str(epoch) + \" Training Accuracy\" + str(train_acc) + \" Testing Accuracy\" + str(test_acc))"
   ]
  },
  {
   "cell_type": "markdown",
   "metadata": {
    "collapsed": true
   },
   "source": [
    "### 未使用dropout\n",
    "Iter0 Training Accuracy0.9024182 Testing Accuracy0.907\n",
    "Iter1 Training Accuracy0.92594546 Testing Accuracy0.9246\n",
    "Iter2 Training Accuracy0.93814546 Testing Accuracy0.9375\n",
    "...\n",
    "Iter28 Training Accuracy0.98834544 Testing Accuracy0.971\n",
    "Iter29 Training Accuracy0.98865455 Testing Accuracy0.9713\n",
    "Iter30 Training Accuracy0.98883635 Testing Accuracy0.9726\n",
    "存在过拟合情况"
   ]
  },
  {
   "cell_type": "markdown",
   "metadata": {
    "collapsed": true
   },
   "source": [
    "### 使用 dropout train = 0.8 number_neural=100\n",
    "Iter0 Training Accuracy0.8772727 Testing Accuracy0.9032\n",
    "Iter1 Training Accuracy0.8999091 Testing Accuracy0.9225\n",
    "Iter2 Training Accuracy0.9084909 Testing Accuracy0.9342\n",
    "...\n",
    "Iter28 Training Accuracy0.9042182 Testing Accuracy0.9706\n",
    "Iter29 Training Accuracy0.90752727 Testing Accuracy0.9702\n",
    "Iter30 Training Accuracy0.90776366 Testing Accuracy0.9713"
   ]
  }
 ],
 "metadata": {
  "kernelspec": {
   "display_name": "Python 3",
   "language": "python",
   "name": "python3"
  },
  "language_info": {
   "codemirror_mode": {
    "name": "ipython",
    "version": 3
   },
   "file_extension": ".py",
   "mimetype": "text/x-python",
   "name": "python",
   "nbconvert_exporter": "python",
   "pygments_lexer": "ipython3",
   "version": "3.6.3"
  }
 },
 "nbformat": 4,
 "nbformat_minor": 2
}
