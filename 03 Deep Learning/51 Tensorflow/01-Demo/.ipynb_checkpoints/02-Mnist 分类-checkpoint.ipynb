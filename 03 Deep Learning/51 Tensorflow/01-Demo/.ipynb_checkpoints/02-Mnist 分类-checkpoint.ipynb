{
 "cells": [
  {
   "cell_type": "code",
   "execution_count": 1,
   "metadata": {
    "collapsed": true
   },
   "outputs": [],
   "source": [
    "import tensorflow as tf\n",
    "from tensorflow.examples.tutorials.mnist import input_data"
   ]
  },
  {
   "cell_type": "code",
   "execution_count": 4,
   "metadata": {},
   "outputs": [
    {
     "name": "stdout",
     "output_type": "stream",
     "text": [
      "Extracting MNIST_data/train-images-idx3-ubyte.gz\n",
      "Extracting MNIST_data/train-labels-idx1-ubyte.gz\n",
      "Extracting MNIST_data/t10k-images-idx3-ubyte.gz\n",
      "Extracting MNIST_data/t10k-labels-idx1-ubyte.gz\n"
     ]
    }
   ],
   "source": [
    "# 载入数据\n",
    "mnist = input_data.read_data_sets(\"MNIST_data\", one_hot=True) # 下载数据"
   ]
  },
  {
   "cell_type": "code",
   "execution_count": 7,
   "metadata": {},
   "outputs": [
    {
     "name": "stdout",
     "output_type": "stream",
     "text": [
      "Iter0 Testing Accuracy0.8337\n",
      "Iter1 Testing Accuracy0.8714\n",
      "Iter2 Testing Accuracy0.8809\n",
      "Iter3 Testing Accuracy0.8889\n",
      "Iter4 Testing Accuracy0.8943\n",
      "Iter5 Testing Accuracy0.897\n",
      "Iter6 Testing Accuracy0.8998\n",
      "Iter7 Testing Accuracy0.9024\n",
      "Iter8 Testing Accuracy0.9037\n",
      "Iter9 Testing Accuracy0.9052\n",
      "Iter10 Testing Accuracy0.9064\n",
      "Iter11 Testing Accuracy0.9065\n",
      "Iter12 Testing Accuracy0.9082\n",
      "Iter13 Testing Accuracy0.9092\n",
      "Iter14 Testing Accuracy0.9099\n",
      "Iter15 Testing Accuracy0.9106\n",
      "Iter16 Testing Accuracy0.9118\n",
      "Iter17 Testing Accuracy0.9121\n",
      "Iter18 Testing Accuracy0.9131\n",
      "Iter19 Testing Accuracy0.9131\n",
      "Iter20 Testing Accuracy0.9134\n"
     ]
    }
   ],
   "source": [
    "# 批次大小\n",
    "batch_size = 100\n",
    "# 计算一共有多少个批次\n",
    "n_batch = mnist.train.num_examples // batch_size # // 整除\n",
    "\n",
    "# 定义两个 placeholder\n",
    "x = tf.placeholder(tf.float32, [None, 784]) # None 表示任意维度\n",
    "y = tf.placeholder(tf.float32, [None, 10])\n",
    "\n",
    "# 创建一个简单的神经网络\n",
    "W = tf.Variable(tf.zeros([784,10]))\n",
    "b = tf.Variable(tf.zeros([10]))\n",
    "predict = tf.nn.softmax(tf.matmul(x,W)+b)\n",
    "\n",
    "# 二次代价函数\n",
    "loss = tf.reduce_mean(tf.square(y-predict))\n",
    "train_step = tf.train.GradientDescentOptimizer(0.2).minimize(loss)\n",
    "\n",
    "# 初始化变量\n",
    "init = tf.global_variables_initializer()\n",
    "\n",
    "# 结果存放在一个bool 型列表中\n",
    "correct_prediction = tf.equal(tf.argmax(y,1), tf.argmax(predict,1)) # tf.equal \n",
    "# 求准确率\n",
    "arruracy = tf.reduce_mean(tf.cast(correct_prediction, tf.float32))\n",
    "\n",
    "with tf.Session() as sess:\n",
    "    sess.run(init)\n",
    "    for epoch in range(21):\n",
    "        for batch in range(n_batch):\n",
    "            batch_xs, batch_ys = mnist.train.next_batch(batch_size=batch_size)\n",
    "            sess.run(train_step, feed_dict={x:batch_xs, y:batch_ys})\n",
    "        \n",
    "        acc = sess.run(arruracy, feed_dict={x:mnist.test.images, y:mnist.test.labels})\n",
    "        print(\"Iter\" + str(epoch) + \" Testing Accuracy\" + str(acc))\n",
    "        \n",
    "# 优化\n",
    "# 批次大小\n",
    "# 增加层数\n",
    "# loss 交叉熵\n",
    "# 其他优化方式\n",
    "# epoch 更多"
   ]
  },
  {
   "cell_type": "code",
   "execution_count": 10,
   "metadata": {},
   "outputs": [
    {
     "name": "stdout",
     "output_type": "stream",
     "text": [
      "Iter0 Testing Accuracy0.8248\n",
      "Iter1 Testing Accuracy0.8858\n",
      "Iter2 Testing Accuracy0.9016\n",
      "Iter3 Testing Accuracy0.9047\n",
      "Iter4 Testing Accuracy0.9077\n",
      "Iter5 Testing Accuracy0.9097\n",
      "Iter6 Testing Accuracy0.9119\n",
      "Iter7 Testing Accuracy0.9134\n",
      "Iter8 Testing Accuracy0.9153\n",
      "Iter9 Testing Accuracy0.9175\n",
      "Iter10 Testing Accuracy0.9168\n",
      "Iter11 Testing Accuracy0.9181\n",
      "Iter12 Testing Accuracy0.9195\n",
      "Iter13 Testing Accuracy0.9188\n",
      "Iter14 Testing Accuracy0.9193\n",
      "Iter15 Testing Accuracy0.9207\n",
      "Iter16 Testing Accuracy0.9196\n",
      "Iter17 Testing Accuracy0.9216\n",
      "Iter18 Testing Accuracy0.9213\n",
      "Iter19 Testing Accuracy0.9216\n",
      "Iter20 Testing Accuracy0.9216\n"
     ]
    }
   ],
   "source": [
    "# 批次大小\n",
    "batch_size = 100\n",
    "# 计算一共有多少个批次\n",
    "n_batch = mnist.train.num_examples // batch_size # // 整除\n",
    "\n",
    "# 定义两个 placeholder\n",
    "x = tf.placeholder(tf.float32, [None, 784]) # None 表示任意维度\n",
    "y = tf.placeholder(tf.float32, [None, 10])\n",
    "\n",
    "# 创建一个简单的神经网络\n",
    "W = tf.Variable(tf.zeros([784,10]))\n",
    "b = tf.Variable(tf.zeros([10]))\n",
    "predict = tf.nn.softmax(tf.matmul(x,W)+b)\n",
    "\n",
    "# cross entropy\n",
    "# loss = tf.reduce_mean(tf.square(y-predict))\n",
    "loss = tf.reduce_mean(tf.nn.softmax_cross_entropy_with_logits(labels=y, logits=predict))\n",
    "train_step = tf.train.GradientDescentOptimizer(0.2).minimize(loss)\n",
    "\n",
    "# 初始化变量\n",
    "init = tf.global_variables_initializer()\n",
    "\n",
    "# 结果存放在一个bool 型列表中\n",
    "correct_prediction = tf.equal(tf.argmax(y,1), tf.argmax(predict,1)) # tf.equal \n",
    "# 求准确率\n",
    "arruracy = tf.reduce_mean(tf.cast(correct_prediction, tf.float32))\n",
    "\n",
    "with tf.Session() as sess:\n",
    "    sess.run(init)\n",
    "    for epoch in range(21):\n",
    "        for batch in range(n_batch):\n",
    "            batch_xs, batch_ys = mnist.train.next_batch(batch_size=batch_size)\n",
    "            sess.run(train_step, feed_dict={x:batch_xs, y:batch_ys})\n",
    "        \n",
    "        acc = sess.run(arruracy, feed_dict={x:mnist.test.images, y:mnist.test.labels})\n",
    "        print(\"Iter\" + str(epoch) + \" Testing Accuracy\" + str(acc))"
   ]
  },
  {
   "cell_type": "code",
   "execution_count": null,
   "metadata": {
    "collapsed": true
   },
   "outputs": [],
   "source": []
  }
 ],
 "metadata": {
  "kernelspec": {
   "display_name": "Python 3",
   "language": "python",
   "name": "python3"
  },
  "language_info": {
   "codemirror_mode": {
    "name": "ipython",
    "version": 3
   },
   "file_extension": ".py",
   "mimetype": "text/x-python",
   "name": "python",
   "nbconvert_exporter": "python",
   "pygments_lexer": "ipython3",
   "version": "3.6.3"
  }
 },
 "nbformat": 4,
 "nbformat_minor": 2
}
