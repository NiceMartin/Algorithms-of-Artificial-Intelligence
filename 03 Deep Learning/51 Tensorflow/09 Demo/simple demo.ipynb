{
 "cells": [
  {
   "cell_type": "markdown",
   "metadata": {},
   "source": [
    "## 基本概念\n",
    "+ 使用图表示基本任务\n",
    "+ 在被称为会话(Session)的上下文(context)中执行图\n",
    "+ 使用tensor表示数据\n",
    "+ 通过变量(variable)维护状态\n",
    "+ 使用feed和fetch可以为任意的操作赋值或者从其中获取数据\n",
    "\n",
    "+ 图中的节点称之为op(operation), 一个op获得0个或多个tensor, 执行计算产生一个n维的数组或列表\n",
    "+ 图必须在会话中启动"
   ]
  },
  {
   "cell_type": "markdown",
   "metadata": {},
   "source": [
    "tf.mul  tf.sub   tf.neg 已经废弃 \n",
    "\n",
    "分别可用tf.multiply  tf.subtract  tf.negative替代."
   ]
  },
  {
   "cell_type": "code",
   "execution_count": 3,
   "metadata": {},
   "outputs": [
    {
     "name": "stdout",
     "output_type": "stream",
     "text": [
      "Tensor(\"MatMul_1:0\", shape=(1, 1), dtype=int32)\n",
      "[[5]]\n"
     ]
    }
   ],
   "source": [
    "# 创建图, 启动图\n",
    "import tensorflow as tf\n",
    "# 常量op\n",
    "m1 = tf.constant([[1,2]])\n",
    "# 常量op\n",
    "m2 = tf.constant([[1],[2]])\n",
    "# 矩阵乘法\n",
    "product = tf.matmul(m1,m2)\n",
    "print(product)\n",
    "\n",
    "with tf.Session() as sess:\n",
    "    # 调用run 执行矩阵乘法op\n",
    "    # run(porduct) 执行途中的三个op\n",
    "    print(sess.run(product))"
   ]
  },
  {
   "cell_type": "code",
   "execution_count": 15,
   "metadata": {},
   "outputs": [
    {
     "name": "stdout",
     "output_type": "stream",
     "text": [
      "(1, 2)\n",
      "(1, 2)\n",
      "(2, 1)\n",
      "[[3 6]]\n",
      "[[9]]\n"
     ]
    }
   ],
   "source": [
    "# 变量的使用\n",
    "import tensorflow as tf\n",
    "x = tf.Variable([[1,2]])\n",
    "a = tf.constant([[3,3]])\n",
    "# shitf + Tab 可见方法描述\n",
    "# sub = tf.subtract(x,a)\n",
    "# add = tf.add(x,a)\n",
    "# mul = tf.mul(x,a) 此API 已经废弃\n",
    "# tf.multiply是点乘，即Returns x * y element-wise.\n",
    "# tf.matmul是矩阵乘法，即Multiplies matrix a by matrix b, producing a * b.\n",
    "mul1 = tf.multiply(x,a)\n",
    "\n",
    "print(x.shape)\n",
    "print(a.shape)\n",
    "print(tf.transpose(a).shape)\n",
    "mul2 = tf.matmul(x,tf.transpose(a))\n",
    "init = tf.global_variables_initializer()\n",
    "\n",
    "with tf.Session() as sess:\n",
    "    sess.run(init)\n",
    "#     print(sess.run(sub))\n",
    "#     print(sess.run(add))\n",
    "    print(sess.run(mul1))\n",
    "    print(sess.run(mul2))"
   ]
  },
  {
   "cell_type": "code",
   "execution_count": 16,
   "metadata": {},
   "outputs": [
    {
     "name": "stdout",
     "output_type": "stream",
     "text": [
      "0\n",
      "1\n",
      "2\n",
      "3\n",
      "4\n",
      "5\n"
     ]
    }
   ],
   "source": [
    "# 变量的使用 tf.assign\n",
    "import tensorflow as tf\n",
    "state = tf.Variable(0, name='counter')\n",
    "# 创建op, 作用是使state加1\n",
    "new_value = tf.add(state,1)\n",
    "# 赋值op\n",
    "update = tf.assign(state, new_value)\n",
    "# 变量初始化\n",
    "init = tf.global_variables_initializer()\n",
    "with tf.Session() as sess:\n",
    "    sess.run(init)\n",
    "    print(sess.run(state))\n",
    "    for _ in range(5):\n",
    "        print(sess.run(update))"
   ]
  },
  {
   "cell_type": "code",
   "execution_count": 23,
   "metadata": {},
   "outputs": [
    {
     "name": "stdout",
     "output_type": "stream",
     "text": [
      "[27.0, 9.0]\n"
     ]
    }
   ],
   "source": [
    "# Fetch\n",
    "import tensorflow as tf\n",
    "input1 = tf.constant(3.0)\n",
    "input2 = tf.constant(4.0)\n",
    "input3 = tf.constant(5.0)\n",
    "\n",
    "add = tf.add(input2, input3)\n",
    "mul = tf.multiply(input1, add)\n",
    "\n",
    "with tf.Session() as sess:\n",
    "    result = sess.run([mul, add]) # Fetch\n",
    "    print(result)"
   ]
  },
  {
   "cell_type": "code",
   "execution_count": 24,
   "metadata": {},
   "outputs": [
    {
     "name": "stdout",
     "output_type": "stream",
     "text": [
      "[14.]\n"
     ]
    }
   ],
   "source": [
    "# Feed\n",
    "input1 = tf.placeholder(tf.float32)\n",
    "input2 = tf.placeholder(tf.float32)\n",
    "output = tf.multiply(input1, input2)\n",
    "\n",
    "with tf.Session() as sess:\n",
    "    print(sess.run(output, feed_dict={input1:[7.0], input2:[2.]}))"
   ]
  },
  {
   "cell_type": "code",
   "execution_count": 29,
   "metadata": {},
   "outputs": [
    {
     "name": "stdout",
     "output_type": "stream",
     "text": [
      "0 [0.054351944, 0.10041775]\n",
      "20 [0.10399959, 0.19782674]\n",
      "40 [0.10244915, 0.19866925]\n",
      "60 [0.10149974, 0.19918512]\n",
      "80 [0.10091835, 0.19950101]\n",
      "100 [0.10056236, 0.19969444]\n",
      "120 [0.10034437, 0.19981289]\n",
      "140 [0.100210875, 0.19988543]\n",
      "160 [0.10012912, 0.19992985]\n",
      "180 [0.100079075, 0.19995704]\n",
      "200 [0.10004844, 0.19997369]\n"
     ]
    }
   ],
   "source": [
    "# Simple Demo\n",
    "import tensorflow as tf\n",
    "import numpy as np\n",
    "\n",
    "# 使用np生成一百个随机点\n",
    "x_data = np.random.rand(100)\n",
    "y_data = x_data*0.1 + 0.2\n",
    "\n",
    "# 构建一个线性模型\n",
    "b = tf.Variable(0.)\n",
    "k = tf.Variable(0.)\n",
    "y = k*x_data + b\n",
    "\n",
    "# Loss 二次代价\n",
    "# tf.reduce_mean 平均值\n",
    "loss = tf.reduce_mean(tf.square(y_data-y))\n",
    "opt1 = tf.train.GradientDescentOptimizer(0.2) # 学习率\n",
    "\n",
    "# 最小化代价函数\n",
    "train = opt1.minimize(loss)\n",
    "\n",
    "init = tf.global_variables_initializer()\n",
    "\n",
    "with tf.Session() as sess:\n",
    "    sess.run(init)\n",
    "    for step in range(201):\n",
    "        sess.run(train)\n",
    "        if step%20 == 0:\n",
    "            print(step, sess.run([k,b]))"
   ]
  },
  {
   "cell_type": "code",
   "execution_count": null,
   "metadata": {
    "collapsed": true
   },
   "outputs": [],
   "source": []
  }
 ],
 "metadata": {
  "kernelspec": {
   "display_name": "Python 3",
   "language": "python",
   "name": "python3"
  },
  "language_info": {
   "codemirror_mode": {
    "name": "ipython",
    "version": 3
   },
   "file_extension": ".py",
   "mimetype": "text/x-python",
   "name": "python",
   "nbconvert_exporter": "python",
   "pygments_lexer": "ipython3",
   "version": "3.6.3"
  }
 },
 "nbformat": 4,
 "nbformat_minor": 2
}
