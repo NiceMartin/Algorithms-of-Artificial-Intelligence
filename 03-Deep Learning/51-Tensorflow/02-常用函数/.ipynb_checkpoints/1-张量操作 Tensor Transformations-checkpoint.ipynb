{
 "cells": [
  {
   "cell_type": "markdown",
   "metadata": {},
   "source": [
    "# 类型转化 Casting"
   ]
  },
  {
   "cell_type": "code",
   "execution_count": null,
   "metadata": {
    "collapsed": true
   },
   "outputs": [],
   "source": [
    "# tf.shape()\n",
    "# tf.size()\n",
    "# tf.rank()"
   ]
  },
  {
   "cell_type": "code",
   "execution_count": 10,
   "metadata": {},
   "outputs": [
    {
     "name": "stdout",
     "output_type": "stream",
     "text": [
      "(2, 5)\n",
      "[[1 2 3 4 5]\n",
      " [5 6 7 8 9]]\n",
      "(10, 1)\n",
      "[[1]\n",
      " [2]\n",
      " [3]\n",
      " [4]\n",
      " [5]\n",
      " [5]\n",
      " [6]\n",
      " [7]\n",
      " [8]\n",
      " [9]]\n",
      "(5, 2)\n",
      "[[1 2]\n",
      " [3 4]\n",
      " [5 5]\n",
      " [6 7]\n",
      " [8 9]]\n"
     ]
    }
   ],
   "source": [
    "# tf.reshape()\n",
    "import tensorflow as tf\n",
    "a1 = tf.constant([[1,2,3,4,5],[5,6,7,8,9]])\n",
    "a2 = tf.reshape(a1, [-1,1])\n",
    "# a3 = tf.reshape(a1, [3,3])\n",
    "a4 = tf.reshape(a2, [5,2])\n",
    "\n",
    "with tf.Session() as sess:\n",
    "    print(a1.shape)\n",
    "    print(sess.run(a1))\n",
    "    print(a2.shape)\n",
    "    print(sess.run(a2))\n",
    "#     sess.run(a3)\n",
    "    print(a4.shape)\n",
    "    print(sess.run(a4))"
   ]
  },
  {
   "cell_type": "code",
   "execution_count": null,
   "metadata": {
    "collapsed": true
   },
   "outputs": [],
   "source": [
    "# tf.expand_dims()"
   ]
  },
  {
   "cell_type": "markdown",
   "metadata": {},
   "source": [
    "# 形状操作 Shapes and Shaping"
   ]
  },
  {
   "cell_type": "markdown",
   "metadata": {},
   "source": [
    "# 切片与合并 Slicing and Joining"
   ]
  },
  {
   "cell_type": "code",
   "execution_count": null,
   "metadata": {
    "collapsed": true
   },
   "outputs": [],
   "source": []
  }
 ],
 "metadata": {
  "kernelspec": {
   "display_name": "Python 3",
   "language": "python",
   "name": "python3"
  },
  "language_info": {
   "codemirror_mode": {
    "name": "ipython",
    "version": 3
   },
   "file_extension": ".py",
   "mimetype": "text/x-python",
   "name": "python",
   "nbconvert_exporter": "python",
   "pygments_lexer": "ipython3",
   "version": "3.6.3"
  }
 },
 "nbformat": 4,
 "nbformat_minor": 2
}
