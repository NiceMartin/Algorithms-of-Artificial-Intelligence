{
 "cells": [
  {
   "cell_type": "code",
   "execution_count": 21,
   "metadata": {
    "collapsed": true
   },
   "outputs": [],
   "source": [
    "nums1 = [1,2]\n",
    "nums2 = [3,4]"
   ]
  },
  {
   "cell_type": "code",
   "execution_count": 22,
   "metadata": {},
   "outputs": [],
   "source": [
    "def returnNumber(numsAll):\n",
    "    print numsAll\n",
    "    length = len(numsAll)\n",
    "    if length % 2 == 1 :\n",
    "        print 'A'\n",
    "        return numsAll[length/2 ]\n",
    "    else:\n",
    "        print 'B'\n",
    "        print length/2\n",
    "        print length%2\n",
    "        print numsAll[length/2]\n",
    "        print numsAll[length/2 - 1]\n",
    "        return (numsAll[length/2] + numsAll[length/2 - 1])/2.0\n",
    "\n",
    "\n",
    "def findMedianSortedArrays(nums1, nums2):\n",
    "        \"\"\"\n",
    "        :type nums1: List[int]\n",
    "        :type nums2: List[int]\n",
    "        :rtype: float\n",
    "        \"\"\"\n",
    "        \n",
    "        size1 = len(nums1)-1\n",
    "        print 'size1 ' + str(size1)\n",
    "        size2 = len(nums2)-1\n",
    "        print 'size2 ' + str(size2)\n",
    "        \n",
    "        if size1 < 0:\n",
    "            print '**'\n",
    "            return returnNumber(nums2)\n",
    "        elif size2 < 0 :\n",
    "            print '&&'\n",
    "            return returnNumber(nums1)\n",
    "        else:\n",
    "            print '%%'\n",
    "            numsAll = []\n",
    "            count1 = 0\n",
    "            count2 = 0\n",
    "           \n",
    "            while count1 + count2 < len(nums1) + len(nums2):\n",
    "                if count1 > size1:\n",
    "                    tmp1 = float(\"inf\")\n",
    "                else:\n",
    "                    tmp1 = nums1[count1]\n",
    "            \n",
    "                if count2 > size2:\n",
    "                    tmp2 = float(\"inf\")\n",
    "                else:\n",
    "                    tmp2 = nums2[count2]\n",
    "                    \n",
    "                print 'tmp1 ' + str(tmp1)\n",
    "                print 'tmp2 ' + str(tmp2)\n",
    "            \n",
    "                if tmp1 < tmp2:\n",
    "                    numsAll.append(tmp1)\n",
    "                    count1 += 1\n",
    "                elif tmp1 == tmp2:\n",
    "                    numsAll.append(tmp1)\n",
    "                    count1 += 1\n",
    "                    numsAll.append(tmp2)\n",
    "                    count2 += 1\n",
    "                else:\n",
    "                    numsAll.append(tmp2)\n",
    "                    count2 += 1\n",
    "            return returnNumber(numsAll)"
   ]
  },
  {
   "cell_type": "code",
   "execution_count": 23,
   "metadata": {},
   "outputs": [
    {
     "name": "stdout",
     "output_type": "stream",
     "text": [
      "size1 1\n",
      "size2 1\n",
      "%%\n",
      "tmp1 1\n",
      "tmp2 3\n",
      "tmp1 2\n",
      "tmp2 3\n",
      "tmp1 inf\n",
      "tmp2 3\n",
      "tmp1 inf\n",
      "tmp2 4\n",
      "[1, 2, 3, 4]\n",
      "B\n",
      "2\n",
      "0\n",
      "3\n",
      "2\n"
     ]
    },
    {
     "data": {
      "text/plain": [
       "2.5"
      ]
     },
     "execution_count": 23,
     "metadata": {},
     "output_type": "execute_result"
    }
   ],
   "source": [
    "findMedianSortedArrays(nums1,nums2)"
   ]
  },
  {
   "cell_type": "code",
   "execution_count": null,
   "metadata": {
    "collapsed": true
   },
   "outputs": [],
   "source": []
  },
  {
   "cell_type": "code",
   "execution_count": null,
   "metadata": {
    "collapsed": true
   },
   "outputs": [],
   "source": []
  },
  {
   "cell_type": "code",
   "execution_count": null,
   "metadata": {
    "collapsed": true
   },
   "outputs": [],
   "source": []
  }
 ],
 "metadata": {
  "kernelspec": {
   "display_name": "Python 2",
   "language": "python",
   "name": "python2"
  },
  "language_info": {
   "codemirror_mode": {
    "name": "ipython",
    "version": 2
   },
   "file_extension": ".py",
   "mimetype": "text/x-python",
   "name": "python",
   "nbconvert_exporter": "python",
   "pygments_lexer": "ipython2",
   "version": "2.7.13"
  }
 },
 "nbformat": 4,
 "nbformat_minor": 2
}
